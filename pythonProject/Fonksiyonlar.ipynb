{
 "cells": [
  {
   "cell_type": "code",
   "execution_count": 1,
   "id": "initial_id",
   "metadata": {
    "collapsed": true,
    "ExecuteTime": {
     "end_time": "2024-04-21T09:22:52.707224Z",
     "start_time": "2024-04-21T09:22:52.703945Z"
    }
   },
   "outputs": [],
   "source": [
    "benimAdim=\"Mustafa Balçiçek\""
   ]
  },
  {
   "cell_type": "code",
   "outputs": [
    {
     "data": {
      "text/plain": "'MUSTAFA BALÇIÇEK'"
     },
     "execution_count": 4,
     "metadata": {},
     "output_type": "execute_result"
    }
   ],
   "source": [
    "benimAdim.upper()"
   ],
   "metadata": {
    "collapsed": false,
    "ExecuteTime": {
     "end_time": "2024-04-21T09:23:16.997802Z",
     "start_time": "2024-04-21T09:23:16.995364Z"
    }
   },
   "id": "9599e4a554e40d71",
   "execution_count": 4
  },
  {
   "cell_type": "code",
   "outputs": [],
   "source": [
    "def ilkFonk():\n",
    "    print(\"ilk fonksiyonum\")"
   ],
   "metadata": {
    "collapsed": false,
    "ExecuteTime": {
     "end_time": "2024-04-21T09:28:50.974414Z",
     "start_time": "2024-04-21T09:28:50.972192Z"
    }
   },
   "id": "d2cc4a7c06b78f92",
   "execution_count": 5
  },
  {
   "cell_type": "code",
   "outputs": [
    {
     "name": "stdout",
     "output_type": "stream",
     "text": [
      "ilk fonksiyonum\n"
     ]
    }
   ],
   "source": [
    "ilkFonk()"
   ],
   "metadata": {
    "collapsed": false,
    "ExecuteTime": {
     "end_time": "2024-04-21T09:28:54.613747Z",
     "start_time": "2024-04-21T09:28:54.611204Z"
    }
   },
   "id": "c331102d3bf69111",
   "execution_count": 6
  },
  {
   "cell_type": "markdown",
   "source": [
    "Input and Return    "
   ],
   "metadata": {
    "collapsed": false
   },
   "id": "78156b500f8bd8d7"
  },
  {
   "cell_type": "code",
   "outputs": [],
   "source": [
    "def merhabaDunya(yazdirilacakIsim):\n",
    "    print(\"merhaba\")\n",
    "    print(yazdirilacakIsim)"
   ],
   "metadata": {
    "collapsed": false,
    "ExecuteTime": {
     "end_time": "2024-04-21T09:32:52.161034Z",
     "start_time": "2024-04-21T09:32:52.158222Z"
    }
   },
   "id": "9b8e10705b5ddcf7",
   "execution_count": 8
  },
  {
   "cell_type": "code",
   "outputs": [
    {
     "ename": "TypeError",
     "evalue": "merhabaDunya() missing 1 required positional argument: 'yazdirilacakIsim'",
     "output_type": "error",
     "traceback": [
      "\u001B[0;31m---------------------------------------------------------------------------\u001B[0m",
      "\u001B[0;31mTypeError\u001B[0m                                 Traceback (most recent call last)",
      "Cell \u001B[0;32mIn[9], line 1\u001B[0m\n\u001B[0;32m----> 1\u001B[0m merhabaDunya()\n",
      "\u001B[0;31mTypeError\u001B[0m: merhabaDunya() missing 1 required positional argument: 'yazdirilacakIsim'"
     ]
    }
   ],
   "source": [
    "merhabaDunya()"
   ],
   "metadata": {
    "collapsed": false,
    "ExecuteTime": {
     "end_time": "2024-04-21T09:32:58.125892Z",
     "start_time": "2024-04-21T09:32:57.971545Z"
    }
   },
   "id": "229110e671ec5240",
   "execution_count": 9
  },
  {
   "cell_type": "code",
   "outputs": [
    {
     "name": "stdout",
     "output_type": "stream",
     "text": [
      "merhaba\n",
      "Mustafa\n"
     ]
    }
   ],
   "source": [
    "merhabaDunya(\"Mustafa\")"
   ],
   "metadata": {
    "collapsed": false,
    "ExecuteTime": {
     "end_time": "2024-04-21T09:33:23.747107Z",
     "start_time": "2024-04-21T09:33:23.745135Z"
    }
   },
   "id": "876481286c73cfa",
   "execution_count": 10
  },
  {
   "cell_type": "code",
   "outputs": [],
   "source": [],
   "metadata": {
    "collapsed": false
   },
   "id": "e5902ddd2e1237ab"
  }
 ],
 "metadata": {
  "kernelspec": {
   "display_name": "Python 3",
   "language": "python",
   "name": "python3"
  },
  "language_info": {
   "codemirror_mode": {
    "name": "ipython",
    "version": 2
   },
   "file_extension": ".py",
   "mimetype": "text/x-python",
   "name": "python",
   "nbconvert_exporter": "python",
   "pygments_lexer": "ipython2",
   "version": "2.7.6"
  }
 },
 "nbformat": 4,
 "nbformat_minor": 5
}
