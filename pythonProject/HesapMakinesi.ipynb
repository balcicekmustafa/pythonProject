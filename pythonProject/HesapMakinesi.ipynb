{
 "cells": [
  {
   "metadata": {
    "ExecuteTime": {
     "end_time": "2024-05-28T11:13:59.715830Z",
     "start_time": "2024-05-28T11:13:50.505488Z"
    }
   },
   "cell_type": "code",
   "source": [
    "def hesapla(a,b,islem):\n",
    "    if islem == \"+\":\n",
    "        return (str(a) + \" + \"+str(b)+\" = \"+ str(a+b))\n",
    "    if islem == \"-\":\n",
    "        return (str(a) + \" - \"+str(b)+\" = \"+ str(a-b))\n",
    "    if islem == \"+\":\n",
    "        return (str(a) + \" * \"+str(b)+\" = \"+ str(a*b))\n",
    "    if islem == \"+\":\n",
    "        return (str(a) + \" / \"+str(b)+\" = \"+ str(a/b))\n",
    "a=int(input(\"İlk sayıyı giriniz:\"))\n",
    "b=int(input(\"ikinci sayıyı giriniz:\"))\n",
    "islem=input(\"işleminizi seçiniz: +-*/\")\n",
    "print(hesapla(a,b,islem))"
   ],
   "id": "d8b79367c0a336b4",
   "outputs": [
    {
     "data": {
      "text/plain": [
       "'10 + 20 = 30'"
      ]
     },
     "execution_count": 3,
     "metadata": {},
     "output_type": "execute_result"
    }
   ],
   "execution_count": 3
  },
  {
   "cell_type": "code",
   "execution_count": null,
   "id": "initial_id",
   "metadata": {
    "collapsed": true
   },
   "outputs": [],
   "source": ""
  }
 ],
 "metadata": {
  "kernelspec": {
   "display_name": "Python 3",
   "language": "python",
   "name": "python3"
  },
  "language_info": {
   "codemirror_mode": {
    "name": "ipython",
    "version": 2
   },
   "file_extension": ".py",
   "mimetype": "text/x-python",
   "name": "python",
   "nbconvert_exporter": "python",
   "pygments_lexer": "ipython2",
   "version": "2.7.6"
  }
 },
 "nbformat": 4,
 "nbformat_minor": 5
}
