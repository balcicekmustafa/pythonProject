{
 "cells": [
  {
   "cell_type": "markdown",
   "source": [
    "FOR DÖNGÜSÜ "
   ],
   "metadata": {
    "collapsed": false
   },
   "id": "cf87ed04842686f2"
  },
  {
   "cell_type": "code",
   "execution_count": 1,
   "id": "initial_id",
   "metadata": {
    "collapsed": true,
    "ExecuteTime": {
     "end_time": "2024-03-29T19:15:34.715019Z",
     "start_time": "2024-03-29T19:15:34.711415Z"
    }
   },
   "outputs": [],
   "source": [
    "benimListem=[10,20,30,40,50]"
   ]
  },
  {
   "cell_type": "code",
   "outputs": [
    {
     "name": "stdout",
     "output_type": "stream",
     "text": [
      "evet içerisinde mevcut\n"
     ]
    }
   ],
   "source": [
    "if 10 in benimListem:\n",
    "    print(\"evet içerisinde mevcut\")"
   ],
   "metadata": {
    "collapsed": false,
    "ExecuteTime": {
     "end_time": "2024-03-29T19:15:54.660443Z",
     "start_time": "2024-03-29T19:15:54.657474Z"
    }
   },
   "id": "58885a8c32ba2880",
   "execution_count": 2
  },
  {
   "cell_type": "code",
   "outputs": [
    {
     "data": {
      "text/plain": "16.666666666666668"
     },
     "execution_count": 3,
     "metadata": {},
     "output_type": "execute_result"
    }
   ],
   "source": [
    "benimListem[0]*5/3"
   ],
   "metadata": {
    "collapsed": false,
    "ExecuteTime": {
     "end_time": "2024-03-29T19:16:10.861654Z",
     "start_time": "2024-03-29T19:16:10.856887Z"
    }
   },
   "id": "125c03646269a310",
   "execution_count": 3
  },
  {
   "cell_type": "code",
   "outputs": [
    {
     "data": {
      "text/plain": "33.333333333333336"
     },
     "execution_count": 4,
     "metadata": {},
     "output_type": "execute_result"
    }
   ],
   "source": [
    "benimListem[1]*5/3\n"
   ],
   "metadata": {
    "collapsed": false,
    "ExecuteTime": {
     "end_time": "2024-03-29T19:16:24.735196Z",
     "start_time": "2024-03-29T19:16:24.732578Z"
    }
   },
   "id": "7557c8edc0242fab",
   "execution_count": 4
  },
  {
   "cell_type": "code",
   "outputs": [
    {
     "name": "stdout",
     "output_type": "stream",
     "text": [
      "Döngü Başladı\n",
      "16.666666666666668\n",
      "33.333333333333336\n",
      "50.0\n",
      "66.66666666666667\n",
      "83.33333333333333\n",
      "Döngü bitti\n"
     ]
    }
   ],
   "source": [
    "print(\"Döngü Başladı\")\n",
    "for numara in benimListem:\n",
    "    print(numara*5/3)\n",
    "print(\"Döngü bitti\")"
   ],
   "metadata": {
    "collapsed": false,
    "ExecuteTime": {
     "end_time": "2024-03-29T19:18:00.327933Z",
     "start_time": "2024-03-29T19:18:00.325619Z"
    }
   },
   "id": "ccf8757b943ec49a",
   "execution_count": 7
  },
  {
   "cell_type": "code",
   "outputs": [
    {
     "name": "stdout",
     "output_type": "stream",
     "text": [
      "16.666666666666668\n",
      "33.333333333333336\n",
      "50.0\n",
      "66.66666666666667\n",
      "83.33333333333333\n"
     ]
    }
   ],
   "source": [
    "for num in benimListem:\n",
    "    yeniNumara=num*5/3\n",
    "    print(yeniNumara)"
   ],
   "metadata": {
    "collapsed": false,
    "ExecuteTime": {
     "end_time": "2024-03-29T19:18:30.909766Z",
     "start_time": "2024-03-29T19:18:30.906924Z"
    }
   },
   "id": "25813fac9fc93c4b",
   "execution_count": 8
  },
  {
   "cell_type": "code",
   "outputs": [],
   "source": [
    "yeniListe=[1,2,3,4,5,6]"
   ],
   "metadata": {
    "collapsed": false,
    "ExecuteTime": {
     "end_time": "2024-03-29T19:18:58.200441Z",
     "start_time": "2024-03-29T19:18:58.198039Z"
    }
   },
   "id": "a41f0a444991d749",
   "execution_count": 9
  },
  {
   "cell_type": "code",
   "outputs": [
    {
     "name": "stdout",
     "output_type": "stream",
     "text": [
      "2\n",
      "4\n",
      "6\n"
     ]
    }
   ],
   "source": [
    "for rakam in yeniListe:\n",
    "    if rakam % 2 == 0:\n",
    "        print(rakam)"
   ],
   "metadata": {
    "collapsed": false,
    "ExecuteTime": {
     "end_time": "2024-03-29T19:20:16.076382Z",
     "start_time": "2024-03-29T19:20:16.074034Z"
    }
   },
   "id": "b6d38758e2609bf0",
   "execution_count": 11
  },
  {
   "cell_type": "code",
   "outputs": [],
   "source": [
    "yeniString=\"Mustafa Balçiçek\""
   ],
   "metadata": {
    "collapsed": false,
    "ExecuteTime": {
     "end_time": "2024-03-29T19:22:14.135502Z",
     "start_time": "2024-03-29T19:22:14.133617Z"
    }
   },
   "id": "5bd739f36500826f",
   "execution_count": 12
  },
  {
   "cell_type": "code",
   "outputs": [
    {
     "name": "stdout",
     "output_type": "stream",
     "text": [
      "M\n",
      "u\n",
      "s\n",
      "t\n",
      "a\n",
      "f\n",
      "a\n",
      " \n",
      "B\n",
      "a\n",
      "l\n",
      "ç\n",
      "i\n",
      "ç\n",
      "e\n",
      "k\n"
     ]
    }
   ],
   "source": [
    "for harf in yeniString:\n",
    "    print(harf)"
   ],
   "metadata": {
    "collapsed": false,
    "ExecuteTime": {
     "end_time": "2024-03-29T19:22:29.877901Z",
     "start_time": "2024-03-29T19:22:29.875532Z"
    }
   },
   "id": "7e84ac7500472b18",
   "execution_count": 13
  },
  {
   "cell_type": "code",
   "outputs": [],
   "source": [
    "benimTuple=(1,2,3,4,5)"
   ],
   "metadata": {
    "collapsed": false,
    "ExecuteTime": {
     "end_time": "2024-03-29T19:23:08.893811Z",
     "start_time": "2024-03-29T19:23:08.891612Z"
    }
   },
   "id": "782b95742945de9f",
   "execution_count": 14
  },
  {
   "cell_type": "code",
   "outputs": [
    {
     "name": "stdout",
     "output_type": "stream",
     "text": [
      "-9\n",
      "-8\n",
      "-7\n",
      "-6\n",
      "-5\n"
     ]
    }
   ],
   "source": [
    "for eleman in benimTuple:\n",
    "    print(eleman-10)"
   ],
   "metadata": {
    "collapsed": false,
    "ExecuteTime": {
     "end_time": "2024-03-29T19:23:23.936163Z",
     "start_time": "2024-03-29T19:23:23.934371Z"
    }
   },
   "id": "2fd5605c17243380",
   "execution_count": 16
  },
  {
   "cell_type": "code",
   "outputs": [],
   "source": [
    "koordinatListesi=[(10.2,15.2),(32.4,16.2),(40.2,20.2)]"
   ],
   "metadata": {
    "collapsed": false,
    "ExecuteTime": {
     "end_time": "2024-03-29T19:24:44.986249Z",
     "start_time": "2024-03-29T19:24:44.983576Z"
    }
   },
   "id": "4fcb562045e4e7ee",
   "execution_count": 17
  },
  {
   "cell_type": "code",
   "outputs": [
    {
     "data": {
      "text/plain": "tuple"
     },
     "execution_count": 19,
     "metadata": {},
     "output_type": "execute_result"
    }
   ],
   "source": [
    "type(koordinatListesi[0])"
   ],
   "metadata": {
    "collapsed": false,
    "ExecuteTime": {
     "end_time": "2024-03-29T19:25:03.245365Z",
     "start_time": "2024-03-29T19:25:03.242058Z"
    }
   },
   "id": "63cf031be34a6140",
   "execution_count": 19
  },
  {
   "cell_type": "code",
   "outputs": [
    {
     "name": "stdout",
     "output_type": "stream",
     "text": [
      "(10.2, 15.2)\n",
      "(32.4, 16.2)\n",
      "(40.2, 20.2)\n"
     ]
    }
   ],
   "source": [
    "for eleman in koordinatListesi:\n",
    "    print(eleman)"
   ],
   "metadata": {
    "collapsed": false,
    "ExecuteTime": {
     "end_time": "2024-03-29T19:25:26.062019Z",
     "start_time": "2024-03-29T19:25:26.059238Z"
    }
   },
   "id": "612466a99ef805f",
   "execution_count": 20
  },
  {
   "cell_type": "code",
   "outputs": [
    {
     "name": "stdout",
     "output_type": "stream",
     "text": [
      "10.2\n",
      "15.2\n",
      "32.4\n",
      "16.2\n",
      "40.2\n",
      "20.2\n"
     ]
    }
   ],
   "source": [
    "for(x,y) in koordinatListesi:\n",
    "    print(x)\n",
    "    print(y)"
   ],
   "metadata": {
    "collapsed": false,
    "ExecuteTime": {
     "end_time": "2024-03-29T19:26:27.318780Z",
     "start_time": "2024-03-29T19:26:27.315633Z"
    }
   },
   "id": "d03b97a8a6cfb5b2",
   "execution_count": 22
  },
  {
   "cell_type": "code",
   "outputs": [],
   "source": [
    "benimGaripListem=[(1,2,3),(4,5,6),(7,8,9)]"
   ],
   "metadata": {
    "collapsed": false,
    "ExecuteTime": {
     "end_time": "2024-03-29T19:27:30.918809Z",
     "start_time": "2024-03-29T19:27:30.916261Z"
    }
   },
   "id": "276a04cf4b8c7ed8",
   "execution_count": 23
  },
  {
   "cell_type": "code",
   "outputs": [
    {
     "name": "stdout",
     "output_type": "stream",
     "text": [
      "3\n",
      "6\n",
      "9\n"
     ]
    }
   ],
   "source": [
    "for (x,y,z) in benimGaripListem:\n",
    "    print(z)"
   ],
   "metadata": {
    "collapsed": false,
    "ExecuteTime": {
     "end_time": "2024-03-29T19:27:55.775451Z",
     "start_time": "2024-03-29T19:27:55.773124Z"
    }
   },
   "id": "e25c34fa2ab71f9f",
   "execution_count": 24
  },
  {
   "cell_type": "code",
   "outputs": [],
   "source": [
    "benimSozluk={\"muz\":150,\"portakal\":250,\"elma\":400}"
   ],
   "metadata": {
    "collapsed": false,
    "ExecuteTime": {
     "end_time": "2024-03-29T19:29:23.167900Z",
     "start_time": "2024-03-29T19:29:23.164987Z"
    }
   },
   "id": "90bf79ef2972ce2d",
   "execution_count": 26
  },
  {
   "cell_type": "code",
   "outputs": [
    {
     "data": {
      "text/plain": "dict_items"
     },
     "execution_count": 28,
     "metadata": {},
     "output_type": "execute_result"
    }
   ],
   "source": [
    "type(benimSozluk.items())"
   ],
   "metadata": {
    "collapsed": false,
    "ExecuteTime": {
     "end_time": "2024-03-29T19:30:07.386983Z",
     "start_time": "2024-03-29T19:30:07.382775Z"
    }
   },
   "id": "44b3a85c0ba94201",
   "execution_count": 28
  },
  {
   "cell_type": "code",
   "outputs": [
    {
     "name": "stdout",
     "output_type": "stream",
     "text": [
      "150\n",
      "250\n",
      "400\n"
     ]
    }
   ],
   "source": [
    "for (anahtar,deger) in benimSozluk.items():\n",
    "    print(deger)"
   ],
   "metadata": {
    "collapsed": false,
    "ExecuteTime": {
     "end_time": "2024-03-29T19:31:09.763444Z",
     "start_time": "2024-03-29T19:31:09.760290Z"
    }
   },
   "id": "c7dbf2b146aca16e",
   "execution_count": 30
  },
  {
   "cell_type": "code",
   "outputs": [],
   "source": [],
   "metadata": {
    "collapsed": false
   },
   "id": "5284a964d225ae26"
  }
 ],
 "metadata": {
  "kernelspec": {
   "display_name": "Python 3",
   "language": "python",
   "name": "python3"
  },
  "language_info": {
   "codemirror_mode": {
    "name": "ipython",
    "version": 2
   },
   "file_extension": ".py",
   "mimetype": "text/x-python",
   "name": "python",
   "nbconvert_exporter": "python",
   "pygments_lexer": "ipython2",
   "version": "2.7.6"
  }
 },
 "nbformat": 4,
 "nbformat_minor": 5
}
