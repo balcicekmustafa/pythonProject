{
 "cells": [
  {
   "metadata": {},
   "cell_type": "markdown",
   "source": "KAPSAM",
   "id": "1b92212e4406aee1"
  },
  {
   "metadata": {
    "ExecuteTime": {
     "end_time": "2024-05-28T09:42:19.265477Z",
     "start_time": "2024-05-28T09:42:19.262001Z"
    }
   },
   "cell_type": "code",
   "source": [
    "numara=20\n",
    "def carpma(rakam):\n",
    "    numara=10\n",
    "    return rakam*numara"
   ],
   "id": "1ebbc0572f02a97a",
   "outputs": [],
   "execution_count": 1
  },
  {
   "metadata": {
    "ExecuteTime": {
     "end_time": "2024-05-28T09:42:28.301494Z",
     "start_time": "2024-05-28T09:42:28.296289Z"
    }
   },
   "cell_type": "code",
   "source": "carpma(5)",
   "id": "b993b3ee8dc05132",
   "outputs": [
    {
     "data": {
      "text/plain": [
       "50"
      ]
     },
     "execution_count": 2,
     "metadata": {},
     "output_type": "execute_result"
    }
   ],
   "execution_count": 2
  },
  {
   "cell_type": "code",
   "id": "initial_id",
   "metadata": {
    "collapsed": true,
    "ExecuteTime": {
     "end_time": "2024-05-28T09:42:41.609245Z",
     "start_time": "2024-05-28T09:42:41.607084Z"
    }
   },
   "source": "print(numara)",
   "outputs": [
    {
     "name": "stdout",
     "output_type": "stream",
     "text": [
      "20\n"
     ]
    }
   ],
   "execution_count": 3
  },
  {
   "metadata": {},
   "cell_type": "markdown",
   "source": "##Local,Enclosing,Global,Built-in",
   "id": "8decbf9980bcea38"
  },
  {
   "metadata": {
    "ExecuteTime": {
     "end_time": "2024-05-28T09:45:12.649659Z",
     "start_time": "2024-05-28T09:45:12.646831Z"
    }
   },
   "cell_type": "code",
   "source": [
    "benimAdim=\"Atıl\"\n",
    "def benimFonksiyonum():\n",
    "    benimAdim=\"mahmut\"\n",
    "    def icFonksiyon():\n",
    "        benimAdim=\"Ayşe\"\n",
    "        print(benimAdim)\n",
    "    icFonksiyon()"
   ],
   "id": "3c0da8bad6359828",
   "outputs": [],
   "execution_count": 5
  },
  {
   "metadata": {
    "ExecuteTime": {
     "end_time": "2024-05-28T09:45:17.254358Z",
     "start_time": "2024-05-28T09:45:17.252245Z"
    }
   },
   "cell_type": "code",
   "source": "benimFonksiyonum()",
   "id": "e493762866b4fb23",
   "outputs": [
    {
     "name": "stdout",
     "output_type": "stream",
     "text": [
      "Ayşe\n"
     ]
    }
   ],
   "execution_count": 6
  },
  {
   "metadata": {
    "ExecuteTime": {
     "end_time": "2024-05-28T09:45:53.518444Z",
     "start_time": "2024-05-28T09:45:53.516219Z"
    }
   },
   "cell_type": "code",
   "source": "print(benimAdim)",
   "id": "27ae5e4614c71301",
   "outputs": [
    {
     "name": "stdout",
     "output_type": "stream",
     "text": [
      "Atıl\n"
     ]
    }
   ],
   "execution_count": 7
  },
  {
   "metadata": {
    "ExecuteTime": {
     "end_time": "2024-05-28T09:46:01.150988Z",
     "start_time": "2024-05-28T09:46:01.149109Z"
    }
   },
   "cell_type": "code",
   "source": "benimFonksiyonum()",
   "id": "80d3e9bf7d93371c",
   "outputs": [
    {
     "name": "stdout",
     "output_type": "stream",
     "text": [
      "Ayşe\n"
     ]
    }
   ],
   "execution_count": 8
  },
  {
   "metadata": {
    "ExecuteTime": {
     "end_time": "2024-05-28T09:48:02.277161Z",
     "start_time": "2024-05-28T09:48:02.274843Z"
    }
   },
   "cell_type": "code",
   "source": [
    "y=10\n",
    "def yeniFonksiyon(y):\n",
    "    print(y)\n",
    "    y=5\n",
    "    print(y)\n",
    "    return y"
   ],
   "id": "fc4b2e036ed7347a",
   "outputs": [],
   "execution_count": 9
  },
  {
   "metadata": {
    "ExecuteTime": {
     "end_time": "2024-05-28T09:48:18.052438Z",
     "start_time": "2024-05-28T09:48:18.048918Z"
    }
   },
   "cell_type": "code",
   "source": "yeniFonksiyon(3)",
   "id": "19f5d65161b4c2c4",
   "outputs": [
    {
     "name": "stdout",
     "output_type": "stream",
     "text": [
      "3\n",
      "5\n"
     ]
    },
    {
     "data": {
      "text/plain": [
       "5"
      ]
     },
     "execution_count": 11,
     "metadata": {},
     "output_type": "execute_result"
    }
   ],
   "execution_count": 11
  },
  {
   "metadata": {},
   "cell_type": "code",
   "outputs": [],
   "execution_count": null,
   "source": "",
   "id": "a68dbeaae2a5e70d"
  }
 ],
 "metadata": {
  "kernelspec": {
   "display_name": "Python 3",
   "language": "python",
   "name": "python3"
  },
  "language_info": {
   "codemirror_mode": {
    "name": "ipython",
    "version": 2
   },
   "file_extension": ".py",
   "mimetype": "text/x-python",
   "name": "python",
   "nbconvert_exporter": "python",
   "pygments_lexer": "ipython2",
   "version": "2.7.6"
  }
 },
 "nbformat": 4,
 "nbformat_minor": 5
}
