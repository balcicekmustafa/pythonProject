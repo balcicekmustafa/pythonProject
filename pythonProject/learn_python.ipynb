{
 "cells": [
  {
   "cell_type": "markdown",
   "source": [
    "String Methods"
   ],
   "metadata": {
    "collapsed": false
   },
   "id": "ef9b6bc4655fc8a5"
  },
  {
   "cell_type": "code",
   "outputs": [],
   "source": [
    "benimIsmim=\"mustafa\""
   ],
   "metadata": {
    "collapsed": false
   },
   "id": "af3ded3e5ad08fe7"
  },
  {
   "cell_type": "code",
   "outputs": [],
   "source": [
    "benimYeniIsmim=benimIsmim.capitalize()"
   ],
   "metadata": {
    "collapsed": false,
    "ExecuteTime": {
     "end_time": "2024-03-24T11:09:32.921670Z",
     "start_time": "2024-03-24T11:09:32.918862Z"
    }
   },
   "id": "12284406cde63bf0",
   "execution_count": 2
  },
  {
   "cell_type": "code",
   "outputs": [],
   "source": [
    "benimTamIsmim=\"Muhammed Mustafa Balçiçek\""
   ],
   "metadata": {
    "collapsed": false,
    "ExecuteTime": {
     "end_time": "2024-03-24T11:10:02.691476Z",
     "start_time": "2024-03-24T11:10:02.689515Z"
    }
   },
   "id": "c9b4d7d8e2b94096",
   "execution_count": 3
  },
  {
   "cell_type": "code",
   "outputs": [
    {
     "data": {
      "text/plain": "['Muhammed', 'Mustafa', 'Balçiçek']"
     },
     "execution_count": 4,
     "metadata": {},
     "output_type": "execute_result"
    }
   ],
   "source": [
    "benimTamIsmim.split()"
   ],
   "metadata": {
    "collapsed": false,
    "ExecuteTime": {
     "end_time": "2024-03-24T11:10:11.679384Z",
     "start_time": "2024-03-24T11:10:11.675234Z"
    }
   },
   "id": "1599f932a70ff3a0",
   "execution_count": 4
  },
  {
   "cell_type": "code",
   "outputs": [
    {
     "data": {
      "text/plain": "'MUHAMMED MUSTAFA BALÇIÇEK'"
     },
     "execution_count": 5,
     "metadata": {},
     "output_type": "execute_result"
    }
   ],
   "source": [
    "benimTamIsmim.upper()"
   ],
   "metadata": {
    "collapsed": false,
    "ExecuteTime": {
     "end_time": "2024-03-24T11:10:32.343525Z",
     "start_time": "2024-03-24T11:10:32.340095Z"
    }
   },
   "id": "b126c9088857e7cc",
   "execution_count": 5
  },
  {
   "cell_type": "markdown",
   "source": [
    "Lists"
   ],
   "metadata": {
    "collapsed": false
   },
   "id": "4d79ee1d2d597b85"
  },
  {
   "cell_type": "code",
   "outputs": [],
   "source": [
    "benimString=\"Mustafa Balçiçek\""
   ],
   "metadata": {
    "collapsed": false,
    "ExecuteTime": {
     "end_time": "2024-03-24T11:18:48.079422Z",
     "start_time": "2024-03-24T11:18:48.077621Z"
    }
   },
   "id": "f0a39fbce32b30e3",
   "execution_count": 6
  },
  {
   "cell_type": "code",
   "outputs": [
    {
     "data": {
      "text/plain": "'M'"
     },
     "execution_count": 7,
     "metadata": {},
     "output_type": "execute_result"
    }
   ],
   "source": [
    "benimString[0]"
   ],
   "metadata": {
    "collapsed": false,
    "ExecuteTime": {
     "end_time": "2024-03-24T11:19:02.235699Z",
     "start_time": "2024-03-24T11:19:02.232985Z"
    }
   },
   "id": "9a11978ba44ebb34",
   "execution_count": 7
  },
  {
   "cell_type": "code",
   "outputs": [],
   "source": [
    "#immutability & mutable"
   ],
   "metadata": {
    "collapsed": false,
    "ExecuteTime": {
     "end_time": "2024-03-24T11:19:34.256220Z",
     "start_time": "2024-03-24T11:19:34.254047Z"
    }
   },
   "id": "b1dcda94f30b8135",
   "execution_count": 8
  },
  {
   "cell_type": "code",
   "outputs": [],
   "source": [
    "#benimString[0]=\"B\""
   ],
   "metadata": {
    "collapsed": false,
    "ExecuteTime": {
     "end_time": "2024-03-24T11:20:37.519227Z",
     "start_time": "2024-03-24T11:20:37.516769Z"
    }
   },
   "id": "f2b830ed66ade3da",
   "execution_count": 10
  },
  {
   "cell_type": "code",
   "outputs": [],
   "source": [
    "benimListem=[10,20,30,40]"
   ],
   "metadata": {
    "collapsed": false,
    "ExecuteTime": {
     "end_time": "2024-03-24T11:21:00.209007Z",
     "start_time": "2024-03-24T11:21:00.206446Z"
    }
   },
   "id": "4a5c6dd85319f572",
   "execution_count": 11
  },
  {
   "cell_type": "code",
   "outputs": [
    {
     "data": {
      "text/plain": "list"
     },
     "execution_count": 12,
     "metadata": {},
     "output_type": "execute_result"
    }
   ],
   "source": [
    "type(benimListem)"
   ],
   "metadata": {
    "collapsed": false,
    "ExecuteTime": {
     "end_time": "2024-03-24T11:21:06.017354Z",
     "start_time": "2024-03-24T11:21:06.014799Z"
    }
   },
   "id": "41be00f03f4154e8",
   "execution_count": 12
  },
  {
   "cell_type": "code",
   "outputs": [],
   "source": [
    "benimNumaram=10\n",
    "benimDigerNumaram=20\n",
    "benimNumaraliListem=[benimNumaram,benimDigerNumaram]"
   ],
   "metadata": {
    "collapsed": false,
    "ExecuteTime": {
     "end_time": "2024-03-24T11:22:32.583487Z",
     "start_time": "2024-03-24T11:22:32.581056Z"
    }
   },
   "id": "85b9fd32bf2cfca1",
   "execution_count": 13
  },
  {
   "cell_type": "code",
   "outputs": [
    {
     "data": {
      "text/plain": "10"
     },
     "execution_count": 14,
     "metadata": {},
     "output_type": "execute_result"
    }
   ],
   "source": [
    "benimListem[0]\n"
   ],
   "metadata": {
    "collapsed": false,
    "ExecuteTime": {
     "end_time": "2024-03-24T11:22:50.291264Z",
     "start_time": "2024-03-24T11:22:50.288426Z"
    }
   },
   "id": "b4568047d2805066",
   "execution_count": 14
  },
  {
   "cell_type": "code",
   "outputs": [
    {
     "data": {
      "text/plain": "10"
     },
     "execution_count": 15,
     "metadata": {},
     "output_type": "execute_result"
    }
   ],
   "source": [
    "benimNumaraliListem[0]"
   ],
   "metadata": {
    "collapsed": false,
    "ExecuteTime": {
     "end_time": "2024-03-24T11:23:09.319246Z",
     "start_time": "2024-03-24T11:23:09.316056Z"
    }
   },
   "id": "e6347411e87ad840",
   "execution_count": 15
  },
  {
   "cell_type": "code",
   "outputs": [],
   "source": [
    "benimListem.append(50)"
   ],
   "metadata": {
    "collapsed": false,
    "ExecuteTime": {
     "end_time": "2024-03-24T11:25:46.536042Z",
     "start_time": "2024-03-24T11:25:46.534087Z"
    }
   },
   "id": "d254ceea808e92b5",
   "execution_count": 16
  },
  {
   "cell_type": "code",
   "outputs": [
    {
     "data": {
      "text/plain": "[10, 20, 30, 40, 50]"
     },
     "execution_count": 17,
     "metadata": {},
     "output_type": "execute_result"
    }
   ],
   "source": [
    "benimListem"
   ],
   "metadata": {
    "collapsed": false,
    "ExecuteTime": {
     "end_time": "2024-03-24T11:25:52.750879Z",
     "start_time": "2024-03-24T11:25:52.747826Z"
    }
   },
   "id": "f45e2eb0f43ffc87",
   "execution_count": 17
  },
  {
   "cell_type": "code",
   "outputs": [
    {
     "data": {
      "text/plain": "50"
     },
     "execution_count": 18,
     "metadata": {},
     "output_type": "execute_result"
    }
   ],
   "source": [
    "benimListem.pop()"
   ],
   "metadata": {
    "collapsed": false,
    "ExecuteTime": {
     "end_time": "2024-03-24T11:34:20.908123Z",
     "start_time": "2024-03-24T11:34:20.905084Z"
    }
   },
   "id": "9e16918772d486e1",
   "execution_count": 18
  },
  {
   "cell_type": "code",
   "outputs": [
    {
     "data": {
      "text/plain": "[10, 20, 30, 40]"
     },
     "execution_count": 19,
     "metadata": {},
     "output_type": "execute_result"
    }
   ],
   "source": [
    "benimListem"
   ],
   "metadata": {
    "collapsed": false,
    "ExecuteTime": {
     "end_time": "2024-03-24T11:34:25.694599Z",
     "start_time": "2024-03-24T11:34:25.691459Z"
    }
   },
   "id": "4163f69f1254ab63",
   "execution_count": 19
  },
  {
   "cell_type": "code",
   "outputs": [],
   "source": [
    "benimListem.remove(40)"
   ],
   "metadata": {
    "collapsed": false,
    "ExecuteTime": {
     "end_time": "2024-03-24T11:35:08.748024Z",
     "start_time": "2024-03-24T11:35:08.746021Z"
    }
   },
   "id": "d83fb30ef048229b",
   "execution_count": 20
  },
  {
   "cell_type": "code",
   "outputs": [
    {
     "data": {
      "text/plain": "[10, 20, 30]"
     },
     "execution_count": 21,
     "metadata": {},
     "output_type": "execute_result"
    }
   ],
   "source": [
    "benimListem"
   ],
   "metadata": {
    "collapsed": false,
    "ExecuteTime": {
     "end_time": "2024-03-24T11:35:15.287276Z",
     "start_time": "2024-03-24T11:35:15.284395Z"
    }
   },
   "id": "242edb467e1dea52",
   "execution_count": 21
  },
  {
   "cell_type": "code",
   "outputs": [],
   "source": [
    "benimListem.reverse()"
   ],
   "metadata": {
    "collapsed": false,
    "ExecuteTime": {
     "end_time": "2024-03-24T11:35:27.410081Z",
     "start_time": "2024-03-24T11:35:27.408186Z"
    }
   },
   "id": "5f431cd467ac1cc",
   "execution_count": 22
  },
  {
   "cell_type": "code",
   "outputs": [
    {
     "data": {
      "text/plain": "[30, 20, 10]"
     },
     "execution_count": 23,
     "metadata": {},
     "output_type": "execute_result"
    }
   ],
   "source": [
    "benimListem"
   ],
   "metadata": {
    "collapsed": false,
    "ExecuteTime": {
     "end_time": "2024-03-24T11:35:30.539378Z",
     "start_time": "2024-03-24T11:35:30.535796Z"
    }
   },
   "id": "3e2e511427397880",
   "execution_count": 23
  },
  {
   "cell_type": "code",
   "outputs": [
    {
     "data": {
      "text/plain": "1"
     },
     "execution_count": 24,
     "metadata": {},
     "output_type": "execute_result"
    }
   ],
   "source": [
    "benimListem.count(20)"
   ],
   "metadata": {
    "collapsed": false,
    "ExecuteTime": {
     "end_time": "2024-03-24T11:35:49.188059Z",
     "start_time": "2024-03-24T11:35:49.184833Z"
    }
   },
   "id": "136023115d5192b5",
   "execution_count": 24
  },
  {
   "cell_type": "code",
   "outputs": [],
   "source": [
    "benimListem.append(20)"
   ],
   "metadata": {
    "collapsed": false,
    "ExecuteTime": {
     "end_time": "2024-03-24T11:36:00.335854Z",
     "start_time": "2024-03-24T11:36:00.333658Z"
    }
   },
   "id": "af6f43c33685448b",
   "execution_count": 25
  },
  {
   "cell_type": "code",
   "outputs": [
    {
     "data": {
      "text/plain": "2"
     },
     "execution_count": 26,
     "metadata": {},
     "output_type": "execute_result"
    }
   ],
   "source": [
    "benimListem.count(20)"
   ],
   "metadata": {
    "collapsed": false,
    "ExecuteTime": {
     "end_time": "2024-03-24T11:36:10.904660Z",
     "start_time": "2024-03-24T11:36:10.901220Z"
    }
   },
   "id": "193401d0e93d22c3",
   "execution_count": 26
  },
  {
   "cell_type": "code",
   "outputs": [],
   "source": [
    "benimStringListem=[\"atıl\",\"ahmet\",\"zeynep\"]\n",
    "benimDigerListem=[\"mehmet\",\"mahmut\",\"atlas\"]"
   ],
   "metadata": {
    "collapsed": false,
    "ExecuteTime": {
     "end_time": "2024-03-24T11:38:44.689866Z",
     "start_time": "2024-03-24T11:38:44.687656Z"
    }
   },
   "id": "1b07b80adbd665f9",
   "execution_count": 27
  },
  {
   "cell_type": "code",
   "outputs": [
    {
     "ename": "IndexError",
     "evalue": "list index out of range",
     "output_type": "error",
     "traceback": [
      "\u001B[0;31m---------------------------------------------------------------------------\u001B[0m",
      "\u001B[0;31mIndexError\u001B[0m                                Traceback (most recent call last)",
      "Cell \u001B[0;32mIn[28], line 1\u001B[0m\n\u001B[0;32m----> 1\u001B[0m benimDigerListem[\u001B[38;5;241m3\u001B[39m]\n",
      "\u001B[0;31mIndexError\u001B[0m: list index out of range"
     ]
    }
   ],
   "source": [
    "benimDigerListem[3]"
   ],
   "metadata": {
    "collapsed": false,
    "ExecuteTime": {
     "end_time": "2024-03-24T11:38:56.755388Z",
     "start_time": "2024-03-24T11:38:56.747615Z"
    }
   },
   "id": "9869b5cd434a9a48",
   "execution_count": 28
  },
  {
   "cell_type": "code",
   "outputs": [],
   "source": [
    "benimToplamaListem=benimStringListem + benimDigerListem"
   ],
   "metadata": {
    "collapsed": false,
    "ExecuteTime": {
     "end_time": "2024-03-24T11:40:32.374530Z",
     "start_time": "2024-03-24T11:40:32.371951Z"
    }
   },
   "id": "60b812522bf29280",
   "execution_count": 29
  },
  {
   "cell_type": "code",
   "outputs": [
    {
     "data": {
      "text/plain": "['atıl', 'ahmet', 'zeynep', 'mehmet', 'mahmut', 'atlas']"
     },
     "execution_count": 30,
     "metadata": {},
     "output_type": "execute_result"
    }
   ],
   "source": [
    "benimToplamaListem"
   ],
   "metadata": {
    "collapsed": false,
    "ExecuteTime": {
     "end_time": "2024-03-24T11:40:48.921155Z",
     "start_time": "2024-03-24T11:40:48.917896Z"
    }
   },
   "id": "f6ac4405eb54be18",
   "execution_count": 30
  },
  {
   "cell_type": "code",
   "outputs": [
    {
     "data": {
      "text/plain": "['atıl',\n 'ahmet',\n 'zeynep',\n 'atıl',\n 'ahmet',\n 'zeynep',\n 'atıl',\n 'ahmet',\n 'zeynep',\n 'atıl',\n 'ahmet',\n 'zeynep',\n 'atıl',\n 'ahmet',\n 'zeynep']"
     },
     "execution_count": 31,
     "metadata": {},
     "output_type": "execute_result"
    }
   ],
   "source": [
    "benimStringListem *5"
   ],
   "metadata": {
    "collapsed": false,
    "ExecuteTime": {
     "end_time": "2024-03-24T11:41:15.750527Z",
     "start_time": "2024-03-24T11:41:15.747486Z"
    }
   },
   "id": "a92ea336d1fd12b",
   "execution_count": 31
  },
  {
   "cell_type": "markdown",
   "source": [
    "Sozlukler       \n"
   ],
   "metadata": {
    "collapsed": false
   },
   "id": "3012d6f61600ecad"
  },
  {
   "cell_type": "code",
   "outputs": [],
   "source": [
    "a=[1,2,3]"
   ],
   "metadata": {
    "collapsed": false,
    "ExecuteTime": {
     "end_time": "2024-03-24T12:07:49.833457Z",
     "start_time": "2024-03-24T12:07:49.828020Z"
    }
   },
   "id": "3b1f07e281dea6d",
   "execution_count": 32
  },
  {
   "cell_type": "code",
   "outputs": [
    {
     "data": {
      "text/plain": "1"
     },
     "execution_count": 33,
     "metadata": {},
     "output_type": "execute_result"
    }
   ],
   "source": [
    "a[0]"
   ],
   "metadata": {
    "collapsed": false,
    "ExecuteTime": {
     "end_time": "2024-03-24T12:07:58.789611Z",
     "start_time": "2024-03-24T12:07:58.785930Z"
    }
   },
   "id": "f68abd6fd85872fa",
   "execution_count": 33
  },
  {
   "cell_type": "markdown",
   "source": [
    "key-value pairing (Anahtar kelime - değer eşleşmesi)"
   ],
   "metadata": {
    "collapsed": false
   },
   "id": "8f7efd9175d2bd71"
  },
  {
   "cell_type": "code",
   "outputs": [],
   "source": [
    "benimYemeklerim=[\"Elma\",\"Karpuz\",\"Muz\"]"
   ],
   "metadata": {
    "collapsed": false,
    "ExecuteTime": {
     "end_time": "2024-03-24T13:22:35.470901Z",
     "start_time": "2024-03-24T13:22:35.468784Z"
    }
   },
   "id": "be6a9481b031e16b",
   "execution_count": 34
  },
  {
   "cell_type": "code",
   "outputs": [],
   "source": [
    "benimKalorilerim=[100,200,300]"
   ],
   "metadata": {
    "collapsed": false,
    "ExecuteTime": {
     "end_time": "2024-03-24T13:22:55.100956Z",
     "start_time": "2024-03-24T13:22:55.098789Z"
    }
   },
   "id": "b94bdd71cdd6ed2e",
   "execution_count": 35
  },
  {
   "cell_type": "code",
   "outputs": [
    {
     "data": {
      "text/plain": "'Karpuz'"
     },
     "execution_count": 36,
     "metadata": {},
     "output_type": "execute_result"
    }
   ],
   "source": [
    "benimYemeklerim[1]"
   ],
   "metadata": {
    "collapsed": false,
    "ExecuteTime": {
     "end_time": "2024-03-24T13:23:11.346698Z",
     "start_time": "2024-03-24T13:23:11.344256Z"
    }
   },
   "id": "221da6a016ddb161",
   "execution_count": 36
  },
  {
   "cell_type": "code",
   "outputs": [
    {
     "data": {
      "text/plain": "200"
     },
     "execution_count": 37,
     "metadata": {},
     "output_type": "execute_result"
    }
   ],
   "source": [
    "benimKalorilerim[1]"
   ],
   "metadata": {
    "collapsed": false,
    "ExecuteTime": {
     "end_time": "2024-03-24T13:23:24.726963Z",
     "start_time": "2024-03-24T13:23:24.724244Z"
    }
   },
   "id": "bd98c07e5697c9e",
   "execution_count": 37
  },
  {
   "cell_type": "code",
   "outputs": [],
   "source": [
    "#dictionary"
   ],
   "metadata": {
    "collapsed": false,
    "ExecuteTime": {
     "end_time": "2024-03-24T13:24:04.368914Z",
     "start_time": "2024-03-24T13:24:04.367041Z"
    }
   },
   "id": "1b482cd7b3926163",
   "execution_count": 38
  },
  {
   "cell_type": "code",
   "outputs": [],
   "source": [
    "benimSozluk={\"anahtarkelime\": 'değer'}"
   ],
   "metadata": {
    "collapsed": false,
    "ExecuteTime": {
     "end_time": "2024-03-24T13:24:42.039687Z",
     "start_time": "2024-03-24T13:24:42.037433Z"
    }
   },
   "id": "1495b493f5773836",
   "execution_count": 39
  },
  {
   "cell_type": "code",
   "outputs": [
    {
     "data": {
      "text/plain": "dict"
     },
     "execution_count": 40,
     "metadata": {},
     "output_type": "execute_result"
    }
   ],
   "source": [
    "type(benimSozluk)\n"
   ],
   "metadata": {
    "collapsed": false,
    "ExecuteTime": {
     "end_time": "2024-03-24T13:24:55.838822Z",
     "start_time": "2024-03-24T13:24:55.835453Z"
    }
   },
   "id": "6ec6876db2b6c1e4",
   "execution_count": 40
  },
  {
   "cell_type": "code",
   "outputs": [],
   "source": [
    "benimYemekKaloriSoz={\"elma\":100,\"karpuz\":200,\"muz\":300}"
   ],
   "metadata": {
    "collapsed": false,
    "ExecuteTime": {
     "end_time": "2024-03-24T13:26:11.415969Z",
     "start_time": "2024-03-24T13:26:11.413666Z"
    }
   },
   "id": "3106efd953ce2253",
   "execution_count": 41
  },
  {
   "cell_type": "code",
   "outputs": [
    {
     "data": {
      "text/plain": "300"
     },
     "execution_count": 42,
     "metadata": {},
     "output_type": "execute_result"
    }
   ],
   "source": [
    "benimYemekKaloriSoz[\"muz\"]"
   ],
   "metadata": {
    "collapsed": false,
    "ExecuteTime": {
     "end_time": "2024-03-24T13:26:29.366088Z",
     "start_time": "2024-03-24T13:26:29.363302Z"
    }
   },
   "id": "aa2781a0bdc91e6a",
   "execution_count": 42
  },
  {
   "cell_type": "code",
   "outputs": [],
   "source": [
    "benimYemekKaloriSoz[\"elma\"]=200"
   ],
   "metadata": {
    "collapsed": false,
    "ExecuteTime": {
     "end_time": "2024-03-24T13:26:59.714368Z",
     "start_time": "2024-03-24T13:26:59.712381Z"
    }
   },
   "id": "8cb058c93f3e574d",
   "execution_count": 43
  },
  {
   "cell_type": "code",
   "outputs": [
    {
     "data": {
      "text/plain": "{'elma': 200, 'karpuz': 200, 'muz': 300}"
     },
     "execution_count": 44,
     "metadata": {},
     "output_type": "execute_result"
    }
   ],
   "source": [
    "benimYemekKaloriSoz"
   ],
   "metadata": {
    "collapsed": false,
    "ExecuteTime": {
     "end_time": "2024-03-24T13:27:03.930123Z",
     "start_time": "2024-03-24T13:27:03.926954Z"
    }
   },
   "id": "c05b0a13b23f012d",
   "execution_count": 44
  },
  {
   "cell_type": "code",
   "outputs": [],
   "source": [
    "yeniDictionary={\"anahtar1\":100 , \"anahtar2\":[10,20,30,40,4.5,\"mustafa\"] , \"anahtar3\":{\"anahtar9\":4 }}"
   ],
   "metadata": {
    "collapsed": false,
    "ExecuteTime": {
     "end_time": "2024-03-24T13:33:13.304882Z",
     "start_time": "2024-03-24T13:33:13.302526Z"
    }
   },
   "id": "2aafd3359926babd",
   "execution_count": 45
  },
  {
   "cell_type": "markdown",
   "source": [
    "SETS"
   ],
   "metadata": {
    "collapsed": false
   },
   "id": "73315d67add5bf61"
  },
  {
   "cell_type": "code",
   "outputs": [],
   "source": [
    "benimListem1=[1,2,3,1,2,3]"
   ],
   "metadata": {
    "collapsed": false,
    "ExecuteTime": {
     "end_time": "2024-03-24T14:35:07.181397Z",
     "start_time": "2024-03-24T14:35:07.179596Z"
    }
   },
   "id": "7084f6086fd8e6a7",
   "execution_count": 46
  },
  {
   "cell_type": "code",
   "outputs": [
    {
     "data": {
      "text/plain": "[1, 2, 3, 1, 2, 3]"
     },
     "execution_count": 47,
     "metadata": {},
     "output_type": "execute_result"
    }
   ],
   "source": [
    "benimListem1"
   ],
   "metadata": {
    "collapsed": false,
    "ExecuteTime": {
     "end_time": "2024-03-24T14:35:17.948387Z",
     "start_time": "2024-03-24T14:35:17.945642Z"
    }
   },
   "id": "b01c9752be4e9be6",
   "execution_count": 47
  },
  {
   "cell_type": "code",
   "outputs": [],
   "source": [
    "benimListeSetim=set(benimListem1)"
   ],
   "metadata": {
    "collapsed": false,
    "ExecuteTime": {
     "end_time": "2024-03-24T14:35:37.311166Z",
     "start_time": "2024-03-24T14:35:37.308614Z"
    }
   },
   "id": "f7568a3e4d8d440e",
   "execution_count": 48
  },
  {
   "cell_type": "code",
   "outputs": [
    {
     "data": {
      "text/plain": "set"
     },
     "execution_count": 49,
     "metadata": {},
     "output_type": "execute_result"
    }
   ],
   "source": [
    "type(benimListeSetim)"
   ],
   "metadata": {
    "collapsed": false,
    "ExecuteTime": {
     "end_time": "2024-03-24T14:38:35.540757Z",
     "start_time": "2024-03-24T14:38:35.538338Z"
    }
   },
   "id": "bf65c2244259a338",
   "execution_count": 49
  },
  {
   "cell_type": "code",
   "outputs": [],
   "source": [
    "benimSet={\"a\",\"b\",\"c\",\"a\"}"
   ],
   "metadata": {
    "collapsed": false,
    "ExecuteTime": {
     "end_time": "2024-03-24T14:49:20.692101Z",
     "start_time": "2024-03-24T14:49:20.690199Z"
    }
   },
   "id": "fcda43a4fd46a91b",
   "execution_count": 52
  },
  {
   "cell_type": "code",
   "outputs": [
    {
     "data": {
      "text/plain": "set"
     },
     "execution_count": 53,
     "metadata": {},
     "output_type": "execute_result"
    }
   ],
   "source": [
    "type(benimSet)"
   ],
   "metadata": {
    "collapsed": false,
    "ExecuteTime": {
     "end_time": "2024-03-24T14:49:21.626459Z",
     "start_time": "2024-03-24T14:49:21.623968Z"
    }
   },
   "id": "400d18e33b105498",
   "execution_count": 53
  },
  {
   "cell_type": "code",
   "outputs": [
    {
     "data": {
      "text/plain": "{'a', 'b', 'c'}"
     },
     "execution_count": 54,
     "metadata": {},
     "output_type": "execute_result"
    }
   ],
   "source": [
    "benimSet"
   ],
   "metadata": {
    "collapsed": false,
    "ExecuteTime": {
     "end_time": "2024-03-24T14:49:34.454117Z",
     "start_time": "2024-03-24T14:49:34.451325Z"
    }
   },
   "id": "6e7bb309375d456b",
   "execution_count": 54
  },
  {
   "cell_type": "code",
   "outputs": [],
   "source": [
    "bosListe=[]"
   ],
   "metadata": {
    "collapsed": false,
    "ExecuteTime": {
     "end_time": "2024-03-24T14:49:49.068213Z",
     "start_time": "2024-03-24T14:49:49.065871Z"
    }
   },
   "id": "f3a91f5f2ab27818",
   "execution_count": 55
  },
  {
   "cell_type": "code",
   "outputs": [
    {
     "data": {
      "text/plain": "list"
     },
     "execution_count": 56,
     "metadata": {},
     "output_type": "execute_result"
    }
   ],
   "source": [
    "type(bosListe)"
   ],
   "metadata": {
    "collapsed": false,
    "ExecuteTime": {
     "end_time": "2024-03-24T14:49:57.861562Z",
     "start_time": "2024-03-24T14:49:57.858645Z"
    }
   },
   "id": "612630c1eb4085ca",
   "execution_count": 56
  },
  {
   "cell_type": "code",
   "outputs": [
    {
     "data": {
      "text/plain": "[]"
     },
     "execution_count": 57,
     "metadata": {},
     "output_type": "execute_result"
    }
   ],
   "source": [
    "bosListe"
   ],
   "metadata": {
    "collapsed": false,
    "ExecuteTime": {
     "end_time": "2024-03-24T14:50:05.474462Z",
     "start_time": "2024-03-24T14:50:05.472144Z"
    }
   },
   "id": "b60929893db7ec2a",
   "execution_count": 57
  },
  {
   "cell_type": "code",
   "outputs": [],
   "source": [
    "bosListe.append(1)"
   ],
   "metadata": {
    "collapsed": false,
    "ExecuteTime": {
     "end_time": "2024-03-24T14:51:49.477030Z",
     "start_time": "2024-03-24T14:51:49.475031Z"
    }
   },
   "id": "9cf92c93a0f34da9",
   "execution_count": 58
  },
  {
   "cell_type": "code",
   "outputs": [
    {
     "data": {
      "text/plain": "[1]"
     },
     "execution_count": 59,
     "metadata": {},
     "output_type": "execute_result"
    }
   ],
   "source": [
    "bosListe"
   ],
   "metadata": {
    "collapsed": false,
    "ExecuteTime": {
     "end_time": "2024-03-24T15:06:55.377354Z",
     "start_time": "2024-03-24T15:06:55.374961Z"
    }
   },
   "id": "fa41ddc9fdda1bf6",
   "execution_count": 59
  },
  {
   "cell_type": "code",
   "outputs": [],
   "source": [
    "bosSet={}"
   ],
   "metadata": {
    "collapsed": false,
    "ExecuteTime": {
     "end_time": "2024-03-24T15:07:08.477750Z",
     "start_time": "2024-03-24T15:07:08.475878Z"
    }
   },
   "id": "f165d3348876a0c5",
   "execution_count": 60
  },
  {
   "cell_type": "code",
   "outputs": [
    {
     "data": {
      "text/plain": "dict"
     },
     "execution_count": 61,
     "metadata": {},
     "output_type": "execute_result"
    }
   ],
   "source": [
    "type(bosSet)"
   ],
   "metadata": {
    "collapsed": false,
    "ExecuteTime": {
     "end_time": "2024-03-24T15:07:19.407453Z",
     "start_time": "2024-03-24T15:07:19.405453Z"
    }
   },
   "id": "3da4d677a9cab03c",
   "execution_count": 61
  },
  {
   "cell_type": "code",
   "outputs": [
    {
     "data": {
      "text/plain": "{'anahtarkelime': 'değer'}"
     },
     "execution_count": 63,
     "metadata": {},
     "output_type": "execute_result"
    }
   ],
   "source": [
    "benimSozluk"
   ],
   "metadata": {
    "collapsed": false,
    "ExecuteTime": {
     "end_time": "2024-03-24T15:08:13.342256Z",
     "start_time": "2024-03-24T15:08:13.339684Z"
    }
   },
   "id": "b3111f9b04e2d304",
   "execution_count": 63
  },
  {
   "cell_type": "code",
   "outputs": [],
   "source": [
    "benimBosSetim=set()"
   ],
   "metadata": {
    "collapsed": false,
    "ExecuteTime": {
     "end_time": "2024-03-24T15:09:10.668073Z",
     "start_time": "2024-03-24T15:09:10.666574Z"
    }
   },
   "id": "7f872b2ad5b6f9e",
   "execution_count": 64
  },
  {
   "cell_type": "code",
   "outputs": [
    {
     "data": {
      "text/plain": "set()"
     },
     "execution_count": 65,
     "metadata": {},
     "output_type": "execute_result"
    }
   ],
   "source": [
    "benimBosSetim"
   ],
   "metadata": {
    "collapsed": false,
    "ExecuteTime": {
     "end_time": "2024-03-24T15:09:28.961655Z",
     "start_time": "2024-03-24T15:09:28.958999Z"
    }
   },
   "id": "259c11f307516b62",
   "execution_count": 65
  },
  {
   "cell_type": "code",
   "outputs": [],
   "source": [
    "benimBosSetim.add(10)"
   ],
   "metadata": {
    "collapsed": false,
    "ExecuteTime": {
     "end_time": "2024-03-24T15:09:55.657436Z",
     "start_time": "2024-03-24T15:09:55.654994Z"
    }
   },
   "id": "a96c2006a891b426",
   "execution_count": 66
  },
  {
   "cell_type": "code",
   "outputs": [],
   "source": [
    "benimBosSetim.add(20)\n",
    "benimBosSetim.add(30)\n"
   ],
   "metadata": {
    "collapsed": false,
    "ExecuteTime": {
     "end_time": "2024-03-24T15:10:10.484118Z",
     "start_time": "2024-03-24T15:10:10.482354Z"
    }
   },
   "id": "67c068bc56b54f5a",
   "execution_count": 67
  },
  {
   "cell_type": "code",
   "outputs": [
    {
     "data": {
      "text/plain": "{10, 20, 30}"
     },
     "execution_count": 68,
     "metadata": {},
     "output_type": "execute_result"
    }
   ],
   "source": [
    "benimBosSetim"
   ],
   "metadata": {
    "collapsed": false,
    "ExecuteTime": {
     "end_time": "2024-03-24T15:10:15.983185Z",
     "start_time": "2024-03-24T15:10:15.980594Z"
    }
   },
   "id": "f0bbdd8ad846a855",
   "execution_count": 68
  },
  {
   "cell_type": "code",
   "outputs": [],
   "source": [
    "benimListem2=[1,2,\"a\",4,5]"
   ],
   "metadata": {
    "collapsed": false,
    "ExecuteTime": {
     "end_time": "2024-03-24T15:12:44.225418Z",
     "start_time": "2024-03-24T15:12:44.223526Z"
    }
   },
   "id": "b4330b3743888e47",
   "execution_count": 69
  },
  {
   "cell_type": "code",
   "outputs": [],
   "source": [
    "benimListem2[0]=100"
   ],
   "metadata": {
    "collapsed": false,
    "ExecuteTime": {
     "end_time": "2024-03-24T15:13:53.453617Z",
     "start_time": "2024-03-24T15:13:53.451609Z"
    }
   },
   "id": "707e81b5bd7bf1fe",
   "execution_count": 70
  },
  {
   "cell_type": "code",
   "outputs": [],
   "source": [
    "benimTuple=[1,2,\"a\",4,5]"
   ],
   "metadata": {
    "collapsed": false,
    "ExecuteTime": {
     "end_time": "2024-03-24T15:14:22.773444Z",
     "start_time": "2024-03-24T15:14:22.771503Z"
    }
   },
   "id": "c1dd9e3414c302a4",
   "execution_count": 71
  },
  {
   "cell_type": "code",
   "outputs": [
    {
     "data": {
      "text/plain": "1"
     },
     "execution_count": 72,
     "metadata": {},
     "output_type": "execute_result"
    }
   ],
   "source": [
    "benimTuple[0]"
   ],
   "metadata": {
    "collapsed": false,
    "ExecuteTime": {
     "end_time": "2024-03-24T15:14:42.847616Z",
     "start_time": "2024-03-24T15:14:42.845286Z"
    }
   },
   "id": "ada8bb5723ce7b40",
   "execution_count": 72
  },
  {
   "cell_type": "code",
   "outputs": [
    {
     "data": {
      "text/plain": "1"
     },
     "execution_count": 73,
     "metadata": {},
     "output_type": "execute_result"
    }
   ],
   "source": [
    "benimTuple.count(\"a\")"
   ],
   "metadata": {
    "collapsed": false,
    "ExecuteTime": {
     "end_time": "2024-03-24T15:17:55.858889Z",
     "start_time": "2024-03-24T15:17:55.856662Z"
    }
   },
   "id": "f0aa68b7ca87a7c4",
   "execution_count": 73
  },
  {
   "cell_type": "code",
   "outputs": [
    {
     "data": {
      "text/plain": "2"
     },
     "execution_count": 74,
     "metadata": {},
     "output_type": "execute_result"
    }
   ],
   "source": [
    "benimTuple.index(\"a\")"
   ],
   "metadata": {
    "collapsed": false,
    "ExecuteTime": {
     "end_time": "2024-03-24T15:18:07.910431Z",
     "start_time": "2024-03-24T15:18:07.908171Z"
    }
   },
   "id": "2118d5610a78df44",
   "execution_count": 74
  },
  {
   "cell_type": "code",
   "outputs": [],
   "source": [
    "listem=[5000,10000,3000,1000,2000,4000]"
   ],
   "metadata": {
    "collapsed": false,
    "ExecuteTime": {
     "end_time": "2024-03-24T15:22:24.544206Z",
     "start_time": "2024-03-24T15:22:24.542432Z"
    }
   },
   "id": "f48108669d54dfca",
   "execution_count": 75
  },
  {
   "cell_type": "code",
   "outputs": [
    {
     "data": {
      "text/plain": "25000"
     },
     "execution_count": 76,
     "metadata": {},
     "output_type": "execute_result"
    }
   ],
   "source": [
    "sum(listem)"
   ],
   "metadata": {
    "collapsed": false,
    "ExecuteTime": {
     "end_time": "2024-03-24T15:22:32.434231Z",
     "start_time": "2024-03-24T15:22:32.432315Z"
    }
   },
   "id": "f64785ac08293359",
   "execution_count": 76
  },
  {
   "cell_type": "code",
   "outputs": [],
   "source": [
    "ortalama=sum(listem)/len(listem)"
   ],
   "metadata": {
    "collapsed": false,
    "ExecuteTime": {
     "end_time": "2024-03-24T15:22:57.791Z",
     "start_time": "2024-03-24T15:22:57.789057Z"
    }
   },
   "id": "6d2b28670779bbd4",
   "execution_count": 77
  },
  {
   "cell_type": "code",
   "outputs": [
    {
     "data": {
      "text/plain": "4166.666666666667"
     },
     "execution_count": 78,
     "metadata": {},
     "output_type": "execute_result"
    }
   ],
   "source": [
    "ortalama"
   ],
   "metadata": {
    "collapsed": false,
    "ExecuteTime": {
     "end_time": "2024-03-24T15:23:02.223957Z",
     "start_time": "2024-03-24T15:23:02.221731Z"
    }
   },
   "id": "2c320b06ecaab516",
   "execution_count": 78
  },
  {
   "cell_type": "code",
   "outputs": [],
   "source": [
    "kullaniciMaas=input(\"Maaş bilgisini giriniz.\")"
   ],
   "metadata": {
    "collapsed": false,
    "ExecuteTime": {
     "end_time": "2024-03-24T15:23:59.760657Z",
     "start_time": "2024-03-24T15:23:55.479841Z"
    }
   },
   "id": "c88c0644038f1e22",
   "execution_count": 79
  },
  {
   "cell_type": "code",
   "outputs": [],
   "source": [
    "kullaniciMaasInt=int(kullaniciMaas)"
   ],
   "metadata": {
    "collapsed": false,
    "ExecuteTime": {
     "end_time": "2024-03-24T15:24:13.855597Z",
     "start_time": "2024-03-24T15:24:13.853786Z"
    }
   },
   "id": "e2f9983c185842ad",
   "execution_count": 80
  },
  {
   "cell_type": "code",
   "outputs": [
    {
     "data": {
      "text/plain": "True"
     },
     "execution_count": 83,
     "metadata": {},
     "output_type": "execute_result"
    }
   ],
   "source": [
    "kullaniciMaasInt > ortalama"
   ],
   "metadata": {
    "collapsed": false,
    "ExecuteTime": {
     "end_time": "2024-03-24T15:27:59.744862Z",
     "start_time": "2024-03-24T15:27:59.741800Z"
    }
   },
   "id": "a4962b767e394f7c",
   "execution_count": 83
  },
  {
   "cell_type": "code",
   "outputs": [],
   "source": [
    "x=10\n",
    "y=8"
   ],
   "metadata": {
    "collapsed": false,
    "ExecuteTime": {
     "end_time": "2024-03-24T15:28:22.341329Z",
     "start_time": "2024-03-24T15:28:22.339217Z"
    }
   },
   "id": "ea4ebf855b62184f",
   "execution_count": 84
  },
  {
   "cell_type": "code",
   "outputs": [
    {
     "data": {
      "text/plain": "True"
     },
     "execution_count": 85,
     "metadata": {},
     "output_type": "execute_result"
    }
   ],
   "source": [
    "x > y"
   ],
   "metadata": {
    "collapsed": false,
    "ExecuteTime": {
     "end_time": "2024-03-24T15:28:47.441699Z",
     "start_time": "2024-03-24T15:28:47.439591Z"
    }
   },
   "id": "3fe67349a0be6408",
   "execution_count": 85
  },
  {
   "cell_type": "code",
   "outputs": [
    {
     "ename": "NameError",
     "evalue": "name 'x' is not defined",
     "output_type": "error",
     "traceback": [
      "\u001B[0;31m---------------------------------------------------------------------------\u001B[0m",
      "\u001B[0;31mNameError\u001B[0m                                 Traceback (most recent call last)",
      "Cell \u001B[0;32mIn[1], line 1\u001B[0m\n\u001B[0;32m----> 1\u001B[0m x\u001B[38;5;241m==\u001B[39my\n",
      "\u001B[0;31mNameError\u001B[0m: name 'x' is not defined"
     ]
    }
   ],
   "source": [
    "x==y"
   ],
   "metadata": {
    "collapsed": false,
    "ExecuteTime": {
     "end_time": "2024-03-26T20:39:32.223195Z",
     "start_time": "2024-03-26T20:39:32.079413Z"
    }
   },
   "id": "98cd963dbaaefe4e",
   "execution_count": 1
  },
  {
   "cell_type": "code",
   "outputs": [
    {
     "ename": "NameError",
     "evalue": "name 'x' is not defined",
     "output_type": "error",
     "traceback": [
      "\u001B[0;31m---------------------------------------------------------------------------\u001B[0m",
      "\u001B[0;31mNameError\u001B[0m                                 Traceback (most recent call last)",
      "Cell \u001B[0;32mIn[2], line 1\u001B[0m\n\u001B[0;32m----> 1\u001B[0m x \u001B[38;5;241m!=\u001B[39m y\n",
      "\u001B[0;31mNameError\u001B[0m: name 'x' is not defined"
     ]
    }
   ],
   "source": [
    "x != y"
   ],
   "metadata": {
    "collapsed": false,
    "ExecuteTime": {
     "end_time": "2024-03-26T20:39:48.499694Z",
     "start_time": "2024-03-26T20:39:48.490930Z"
    }
   },
   "id": "2667faae614110e1",
   "execution_count": 2
  },
  {
   "cell_type": "code",
   "outputs": [],
   "source": [
    "x = 10"
   ],
   "metadata": {
    "collapsed": false,
    "ExecuteTime": {
     "end_time": "2024-03-26T20:40:10.666309Z",
     "start_time": "2024-03-26T20:40:10.664079Z"
    }
   },
   "id": "6d8cb26451abc383",
   "execution_count": 3
  },
  {
   "cell_type": "code",
   "outputs": [],
   "source": [
    "y = 8"
   ],
   "metadata": {
    "collapsed": false,
    "ExecuteTime": {
     "end_time": "2024-03-26T20:40:17.392261Z",
     "start_time": "2024-03-26T20:40:17.390434Z"
    }
   },
   "id": "b2f528943093d96f",
   "execution_count": 4
  },
  {
   "cell_type": "code",
   "outputs": [
    {
     "data": {
      "text/plain": "True"
     },
     "execution_count": 5,
     "metadata": {},
     "output_type": "execute_result"
    }
   ],
   "source": [
    "x != y"
   ],
   "metadata": {
    "collapsed": false,
    "ExecuteTime": {
     "end_time": "2024-03-26T20:40:31.601855Z",
     "start_time": "2024-03-26T20:40:31.598357Z"
    }
   },
   "id": "6777387e9a6bcb33",
   "execution_count": 5
  },
  {
   "cell_type": "code",
   "outputs": [
    {
     "data": {
      "text/plain": "False"
     },
     "execution_count": 6,
     "metadata": {},
     "output_type": "execute_result"
    }
   ],
   "source": [
    "x == y"
   ],
   "metadata": {
    "collapsed": false,
    "ExecuteTime": {
     "end_time": "2024-03-26T20:40:37.027222Z",
     "start_time": "2024-03-26T20:40:37.024705Z"
    }
   },
   "id": "ec4a082a02f3fe7",
   "execution_count": 6
  },
  {
   "cell_type": "code",
   "outputs": [
    {
     "data": {
      "text/plain": "False"
     },
     "execution_count": 7,
     "metadata": {},
     "output_type": "execute_result"
    }
   ],
   "source": [
    "not 5 ==5"
   ],
   "metadata": {
    "collapsed": false,
    "ExecuteTime": {
     "end_time": "2024-03-26T20:42:51.499190Z",
     "start_time": "2024-03-26T20:42:51.496574Z"
    }
   },
   "id": "af800d30ebd8a06f",
   "execution_count": 7
  },
  {
   "cell_type": "code",
   "outputs": [
    {
     "data": {
      "text/plain": "True"
     },
     "execution_count": 8,
     "metadata": {},
     "output_type": "execute_result"
    }
   ],
   "source": [
    "5 == 5"
   ],
   "metadata": {
    "collapsed": false,
    "ExecuteTime": {
     "end_time": "2024-03-26T20:43:03.747026Z",
     "start_time": "2024-03-26T20:43:03.744479Z"
    }
   },
   "id": "72e7a96b76c45ab9",
   "execution_count": 8
  },
  {
   "cell_type": "markdown",
   "source": [
    "EgerKontrolleri     "
   ],
   "metadata": {
    "collapsed": false
   },
   "id": "af30559263ac99f7"
  },
  {
   "cell_type": "code",
   "outputs": [
    {
     "data": {
      "text/plain": "True"
     },
     "execution_count": 9,
     "metadata": {},
     "output_type": "execute_result"
    }
   ],
   "source": [
    "3>1"
   ],
   "metadata": {
    "collapsed": false,
    "ExecuteTime": {
     "end_time": "2024-03-26T20:44:39.276722Z",
     "start_time": "2024-03-26T20:44:39.274170Z"
    }
   },
   "id": "1dcc0b739247afe2",
   "execution_count": 9
  },
  {
   "cell_type": "code",
   "outputs": [
    {
     "name": "stdout",
     "output_type": "stream",
     "text": [
      "if'in dışına çıktık\n"
     ]
    }
   ],
   "source": [
    "if 3 > 4:\n",
    "    print(\"Mustafa Balçiçek\")\n",
    "print(\"if'in dışına çıktık\")"
   ],
   "metadata": {
    "collapsed": false,
    "ExecuteTime": {
     "end_time": "2024-03-26T20:48:02.327599Z",
     "start_time": "2024-03-26T20:48:02.324797Z"
    }
   },
   "id": "9adc5d462bc466bb",
   "execution_count": 13
  },
  {
   "cell_type": "code",
   "outputs": [],
   "source": [
    "x=4\n",
    "y=4"
   ],
   "metadata": {
    "collapsed": false,
    "ExecuteTime": {
     "end_time": "2024-03-26T20:51:58.284686Z",
     "start_time": "2024-03-26T20:51:58.282963Z"
    }
   },
   "id": "5ccfc82bde4491a7",
   "execution_count": 22
  },
  {
   "cell_type": "code",
   "outputs": [
    {
     "name": "stdout",
     "output_type": "stream",
     "text": [
      "x ve y eşittir.\n"
     ]
    }
   ],
   "source": [
    "if x>y:\n",
    "    print(\"x,y'den daha büyükmüş\")\n",
    "elif x<y:\n",
    "    print(\"y,x'den daha büyükmüş\")\n",
    "else:\n",
    "    print(\"x ve y eşittir.\")"
   ],
   "metadata": {
    "collapsed": false,
    "ExecuteTime": {
     "end_time": "2024-03-26T20:52:19.561347Z",
     "start_time": "2024-03-26T20:52:19.558662Z"
    }
   },
   "id": "975527ae8e79db06",
   "execution_count": 26
  },
  {
   "cell_type": "code",
   "outputs": [],
   "source": [],
   "metadata": {
    "collapsed": false
   },
   "id": "e7f7d9e29bffb0a8"
  }
 ],
 "metadata": {
  "kernelspec": {
   "display_name": "Python 3",
   "language": "python",
   "name": "python3"
  },
  "language_info": {
   "codemirror_mode": {
    "name": "ipython",
    "version": 2
   },
   "file_extension": ".py",
   "mimetype": "text/x-python",
   "name": "python",
   "nbconvert_exporter": "python",
   "pygments_lexer": "ipython2",
   "version": "2.7.6"
  }
 },
 "nbformat": 4,
 "nbformat_minor": 5
}
