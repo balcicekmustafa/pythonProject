{
 "cells": [
  {
   "cell_type": "code",
   "execution_count": 3,
   "id": "initial_id",
   "metadata": {
    "collapsed": true,
    "ExecuteTime": {
     "end_time": "2024-03-26T21:08:57.736151Z",
     "start_time": "2024-03-26T21:08:52.580219Z"
    }
   },
   "outputs": [],
   "source": [
    "benimKahramanım=input(\"Süper Kahraman Seçiniz\")"
   ]
  },
  {
   "cell_type": "code",
   "outputs": [
    {
     "name": "stdout",
     "output_type": "stream",
     "text": [
      "Bu kim gerçektan bilmiyorum\n"
     ]
    }
   ],
   "source": [
    " if benimKahramanım==\"Batman\":\n",
    "    print(\"Batman'ı seçtiniz tebrikler.\")\n",
    "elif benimKahramanım == \"Superman\":\n",
    "    print(\"Keşke Batman'ı seçseydiniz.\")\n",
    "elif benimKahramanım == \"Ironman\":\n",
    "    print(\"Ironman Kimdr?\")\n",
    "else:\n",
    "    print(\"Bu kim gerçektan bilmiyoruz\")"
   ],
   "metadata": {
    "collapsed": false,
    "ExecuteTime": {
     "end_time": "2024-03-26T21:09:00.253468Z",
     "start_time": "2024-03-26T21:09:00.249270Z"
    }
   },
   "id": "d4360ef068d8af70",
   "execution_count": 4
  },
  {
   "cell_type": "code",
   "outputs": [],
   "source": [
    "a=10\n",
    "b=20\n",
    "c=30"
   ],
   "metadata": {
    "collapsed": false,
    "ExecuteTime": {
     "end_time": "2024-03-26T21:09:44.402885Z",
     "start_time": "2024-03-26T21:09:44.399785Z"
    }
   },
   "id": "bfc4095f36b45726",
   "execution_count": 5
  },
  {
   "cell_type": "code",
   "outputs": [
    {
     "name": "stdout",
     "output_type": "stream",
     "text": [
      "a,b'den küçük VE b de c den küçük\n"
     ]
    }
   ],
   "source": [
    "if a>b and b>c:\n",
    "    print(\"a,b'den büyük VE b de c den büyük\")\n",
    "elif a<b and b<c:\n",
    "    print(\"a,b'den küçük VE b de c den küçük\")\n",
    "else:\n",
    "    print(\"bu koşullar tutmadı\")"
   ],
   "metadata": {
    "collapsed": false,
    "ExecuteTime": {
     "end_time": "2024-03-26T21:11:43.592112Z",
     "start_time": "2024-03-26T21:11:43.589940Z"
    }
   },
   "id": "679ff6113f6b7a76",
   "execution_count": 6
  },
  {
   "cell_type": "code",
   "outputs": [],
   "source": [
    "karakterCanli = False"
   ],
   "metadata": {
    "collapsed": false,
    "ExecuteTime": {
     "end_time": "2024-03-26T22:11:55.312511Z",
     "start_time": "2024-03-26T22:11:55.310070Z"
    }
   },
   "id": "59f86793c30e62dd",
   "execution_count": 7
  },
  {
   "cell_type": "code",
   "outputs": [
    {
     "name": "stdout",
     "output_type": "stream",
     "text": [
      "Karakteriniz yaşamıyor\n"
     ]
    }
   ],
   "source": [
    "if karakterCanli== True:\n",
    "    print(\"Karakteriniz yaşıyor\")\n",
    "else:\n",
    "    print(\"Karakteriniz yaşamıyor\")"
   ],
   "metadata": {
    "collapsed": false,
    "ExecuteTime": {
     "end_time": "2024-03-26T22:12:53.304323Z",
     "start_time": "2024-03-26T22:12:53.300855Z"
    }
   },
   "id": "2f35734212e8b2fe",
   "execution_count": 8
  },
  {
   "cell_type": "code",
   "outputs": [
    {
     "name": "stdout",
     "output_type": "stream",
     "text": [
      "Karakteriniz yaşamıyor\n"
     ]
    }
   ],
   "source": [
    "if not karakterCanli:\n",
    "        print(\"Karakteriniz yaşamıyor\")\n"
   ],
   "metadata": {
    "collapsed": false,
    "ExecuteTime": {
     "end_time": "2024-03-26T22:16:57.414021Z",
     "start_time": "2024-03-26T22:16:57.410848Z"
    }
   },
   "id": "62267e4747dac5e",
   "execution_count": 13
  },
  {
   "cell_type": "code",
   "outputs": [],
   "source": [
    "benimString=\"Mustafa balçiçek\""
   ],
   "metadata": {
    "collapsed": false,
    "ExecuteTime": {
     "end_time": "2024-03-26T22:16:57.773904Z",
     "start_time": "2024-03-26T22:16:57.772317Z"
    }
   },
   "id": "cd6be40b8fc3e802",
   "execution_count": 14
  },
  {
   "cell_type": "code",
   "outputs": [
    {
     "name": "stdout",
     "output_type": "stream",
     "text": [
      "eşit değilmiş.\n"
     ]
    }
   ],
   "source": [
    "if benimString==\"mustafa balçiçek\":\n",
    "    print(\"eşitmiş\")\n",
    "else:\n",
    "    print(\"eşit değilmiş.\")"
   ],
   "metadata": {
    "collapsed": false,
    "ExecuteTime": {
     "end_time": "2024-03-26T22:16:58.173288Z",
     "start_time": "2024-03-26T22:16:58.171452Z"
    }
   },
   "id": "e71ea3e52ade6599",
   "execution_count": 15
  },
  {
   "cell_type": "code",
   "outputs": [
    {
     "name": "stdout",
     "output_type": "stream",
     "text": [
      "varmış\n"
     ]
    }
   ],
   "source": [
    "if \"b\" in benimString:\n",
    "    print(\"varmış\")\n",
    "else:\n",
    "    print(\"yokmuş\")"
   ],
   "metadata": {
    "collapsed": false,
    "ExecuteTime": {
     "end_time": "2024-03-26T22:17:32.786441Z",
     "start_time": "2024-03-26T22:17:32.783324Z"
    }
   },
   "id": "70bcfc82de4455a4",
   "execution_count": 16
  },
  {
   "cell_type": "code",
   "outputs": [],
   "source": [
    "benimListem =[10,20,30,40,50]"
   ],
   "metadata": {
    "collapsed": false,
    "ExecuteTime": {
     "end_time": "2024-03-26T22:19:21.277951Z",
     "start_time": "2024-03-26T22:19:21.275142Z"
    }
   },
   "id": "db0d43debd95d354",
   "execution_count": 17
  },
  {
   "cell_type": "code",
   "outputs": [],
   "source": [
    "if 60 in benimListem:\n",
    "    print(\"evet var\")"
   ],
   "metadata": {
    "collapsed": false,
    "ExecuteTime": {
     "end_time": "2024-03-26T22:19:41.692569Z",
     "start_time": "2024-03-26T22:19:41.690535Z"
    }
   },
   "id": "ced8866092eaef69",
   "execution_count": 18
  },
  {
   "cell_type": "code",
   "outputs": [],
   "source": [
    "benimSozluk={\"muz\":100,\"elma\":150,\"karpuz\":500}"
   ],
   "metadata": {
    "collapsed": false,
    "ExecuteTime": {
     "end_time": "2024-03-26T22:20:55.139953Z",
     "start_time": "2024-03-26T22:20:55.137083Z"
    }
   },
   "id": "a0b436567f448933",
   "execution_count": 19
  },
  {
   "cell_type": "code",
   "outputs": [
    {
     "name": "stdout",
     "output_type": "stream",
     "text": [
      "varmış\n"
     ]
    }
   ],
   "source": [
    "if \"muz\" in benimSozluk.keys():\n",
    "    print(\"varmış\")"
   ],
   "metadata": {
    "collapsed": false,
    "ExecuteTime": {
     "end_time": "2024-03-26T22:21:29.099829Z",
     "start_time": "2024-03-26T22:21:29.097408Z"
    }
   },
   "id": "d7b848a0a088ea15",
   "execution_count": 20
  },
  {
   "cell_type": "code",
   "outputs": [],
   "source": [],
   "metadata": {
    "collapsed": false
   },
   "id": "7db5a95707b8eacc"
  }
 ],
 "metadata": {
  "kernelspec": {
   "display_name": "Python 3",
   "language": "python",
   "name": "python3"
  },
  "language_info": {
   "codemirror_mode": {
    "name": "ipython",
    "version": 2
   },
   "file_extension": ".py",
   "mimetype": "text/x-python",
   "name": "python",
   "nbconvert_exporter": "python",
   "pygments_lexer": "ipython2",
   "version": "2.7.6"
  }
 },
 "nbformat": 4,
 "nbformat_minor": 5
}
