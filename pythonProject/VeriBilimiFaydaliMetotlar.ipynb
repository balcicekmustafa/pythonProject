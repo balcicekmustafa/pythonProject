{
 "cells": [
  {
   "cell_type": "code",
   "execution_count": 1,
   "id": "initial_id",
   "metadata": {
    "collapsed": true,
    "ExecuteTime": {
     "end_time": "2024-03-29T20:28:38.303256Z",
     "start_time": "2024-03-29T20:28:38.300273Z"
    }
   },
   "outputs": [],
   "source": [
    "benimListem=[0,1,2,3,4,5,6]"
   ]
  },
  {
   "cell_type": "code",
   "outputs": [
    {
     "name": "stdout",
     "output_type": "stream",
     "text": [
      "0\n",
      "1\n",
      "2\n",
      "3\n",
      "4\n",
      "5\n",
      "6\n"
     ]
    }
   ],
   "source": [
    "for num in benimListem:\n",
    "    print(num)"
   ],
   "metadata": {
    "collapsed": false,
    "ExecuteTime": {
     "end_time": "2024-03-29T20:28:49.025108Z",
     "start_time": "2024-03-29T20:28:49.022764Z"
    }
   },
   "id": "5d4e05094e1dab85",
   "execution_count": 2
  },
  {
   "cell_type": "markdown",
   "source": [
    "RANGE   "
   ],
   "metadata": {
    "collapsed": false
   },
   "id": "5069b12a7cf4ebd6"
  },
  {
   "cell_type": "code",
   "outputs": [
    {
     "data": {
      "text/plain": "range(0, 15)"
     },
     "execution_count": 3,
     "metadata": {},
     "output_type": "execute_result"
    }
   ],
   "source": [
    "range(15)"
   ],
   "metadata": {
    "collapsed": false,
    "ExecuteTime": {
     "end_time": "2024-03-29T20:30:06.493071Z",
     "start_time": "2024-03-29T20:30:06.487609Z"
    }
   },
   "id": "9c6c3da340cf63ae",
   "execution_count": 3
  },
  {
   "cell_type": "code",
   "outputs": [
    {
     "data": {
      "text/plain": "[0, 1, 2, 3, 4, 5, 6, 7, 8, 9, 10, 11, 12, 13, 14, 15, 16, 17, 18, 19]"
     },
     "execution_count": 6,
     "metadata": {},
     "output_type": "execute_result"
    }
   ],
   "source": [
    "list(range(20\n",
    "           ))"
   ],
   "metadata": {
    "collapsed": false,
    "ExecuteTime": {
     "end_time": "2024-03-29T20:31:23.486591Z",
     "start_time": "2024-03-29T20:31:23.481748Z"
    }
   },
   "id": "718edf1f0349d1b1",
   "execution_count": 6
  },
  {
   "cell_type": "code",
   "outputs": [
    {
     "name": "stdout",
     "output_type": "stream",
     "text": [
      "0\n",
      "5\n",
      "10\n",
      "15\n",
      "20\n",
      "25\n",
      "30\n",
      "35\n",
      "40\n",
      "45\n",
      "50\n",
      "55\n",
      "60\n",
      "65\n",
      "70\n"
     ]
    }
   ],
   "source": [
    "for numara in list(range(15)):\n",
    "    print(numara * 5)"
   ],
   "metadata": {
    "collapsed": false,
    "ExecuteTime": {
     "end_time": "2024-03-29T20:32:19.197470Z",
     "start_time": "2024-03-29T20:32:19.194051Z"
    }
   },
   "id": "5c10d84edcda44f3",
   "execution_count": 9
  },
  {
   "cell_type": "code",
   "outputs": [
    {
     "data": {
      "text/plain": "[5, 9, 13, 17, 21]"
     },
     "execution_count": 10,
     "metadata": {},
     "output_type": "execute_result"
    }
   ],
   "source": [
    "list(range(5,22,4))"
   ],
   "metadata": {
    "collapsed": false,
    "ExecuteTime": {
     "end_time": "2024-03-29T20:33:50.117820Z",
     "start_time": "2024-03-29T20:33:50.115408Z"
    }
   },
   "id": "cdda80d707cf8033",
   "execution_count": 10
  },
  {
   "cell_type": "code",
   "outputs": [
    {
     "name": "stdout",
     "output_type": "stream",
     "text": [
      "güncel numara:5 güncel index:0\n",
      "güncel numara:6 güncel index:1\n",
      "güncel numara:7 güncel index:2\n",
      "güncel numara:8 güncel index:3\n",
      "güncel numara:9 güncel index:4\n",
      "güncel numara:10 güncel index:5\n",
      "güncel numara:11 güncel index:6\n",
      "güncel numara:12 güncel index:7\n",
      "güncel numara:13 güncel index:8\n",
      "güncel numara:14 güncel index:9\n"
     ]
    }
   ],
   "source": [
    "index=0\n",
    "for numara in list(range(5,15)):\n",
    "    print(f\"güncel numara:{numara} güncel index:{index}\")\n",
    "    index=index+1"
   ],
   "metadata": {
    "collapsed": false,
    "ExecuteTime": {
     "end_time": "2024-03-29T20:35:13.231596Z",
     "start_time": "2024-03-29T20:35:13.228132Z"
    }
   },
   "id": "9c0fa7d1714d3eb8",
   "execution_count": 11
  },
  {
   "cell_type": "code",
   "outputs": [
    {
     "name": "stdout",
     "output_type": "stream",
     "text": [
      "(0, 5)\n",
      "(1, 6)\n",
      "(2, 7)\n",
      "(3, 8)\n",
      "(4, 9)\n",
      "(5, 10)\n",
      "(6, 11)\n",
      "(7, 12)\n",
      "(8, 13)\n",
      "(9, 14)\n"
     ]
    }
   ],
   "source": [
    "for eleman in enumerate(list(range(5,15))):\n",
    "    print(eleman)"
   ],
   "metadata": {
    "collapsed": false,
    "ExecuteTime": {
     "end_time": "2024-03-29T20:36:53.129471Z",
     "start_time": "2024-03-29T20:36:53.126718Z"
    }
   },
   "id": "908c37dabdf28c92",
   "execution_count": 12
  },
  {
   "cell_type": "code",
   "outputs": [
    {
     "name": "stdout",
     "output_type": "stream",
     "text": [
      "5\n",
      "6\n",
      "7\n",
      "8\n",
      "9\n",
      "10\n",
      "11\n",
      "12\n",
      "13\n",
      "14\n"
     ]
    }
   ],
   "source": [
    "for (index,numara) in enumerate(list(range(5,15))):\n",
    "    print(numara)"
   ],
   "metadata": {
    "collapsed": false,
    "ExecuteTime": {
     "end_time": "2024-03-29T20:37:29.599887Z",
     "start_time": "2024-03-29T20:37:29.598016Z"
    }
   },
   "id": "dbfee19a16f165c0",
   "execution_count": 13
  },
  {
   "cell_type": "markdown",
   "source": [
    "Random      "
   ],
   "metadata": {
    "collapsed": false
   },
   "id": "4eae8be190978531"
  },
  {
   "cell_type": "code",
   "outputs": [],
   "source": [
    "from random import randint"
   ],
   "metadata": {
    "collapsed": false,
    "ExecuteTime": {
     "end_time": "2024-03-29T20:39:18.454486Z",
     "start_time": "2024-03-29T20:39:18.451803Z"
    }
   },
   "id": "aec7226a6a1626cc",
   "execution_count": 14
  },
  {
   "cell_type": "code",
   "outputs": [
    {
     "data": {
      "text/plain": "9"
     },
     "execution_count": 16,
     "metadata": {},
     "output_type": "execute_result"
    }
   ],
   "source": [
    "randint(0,100)"
   ],
   "metadata": {
    "collapsed": false,
    "ExecuteTime": {
     "end_time": "2024-03-29T20:40:22.604546Z",
     "start_time": "2024-03-29T20:40:22.600256Z"
    }
   },
   "id": "639626f0da359c2e",
   "execution_count": 16
  },
  {
   "cell_type": "code",
   "outputs": [
    {
     "data": {
      "text/plain": "64"
     },
     "execution_count": 17,
     "metadata": {},
     "output_type": "execute_result"
    }
   ],
   "source": [
    "randint(0,100)\n"
   ],
   "metadata": {
    "collapsed": false,
    "ExecuteTime": {
     "end_time": "2024-03-29T20:40:31.970087Z",
     "start_time": "2024-03-29T20:40:31.966456Z"
    }
   },
   "id": "5085450581ba02cb",
   "execution_count": 17
  },
  {
   "cell_type": "code",
   "outputs": [
    {
     "data": {
      "text/plain": "95"
     },
     "execution_count": 18,
     "metadata": {},
     "output_type": "execute_result"
    }
   ],
   "source": [
    "randint(0,100)\n"
   ],
   "metadata": {
    "collapsed": false,
    "ExecuteTime": {
     "end_time": "2024-03-29T20:40:37.517193Z",
     "start_time": "2024-03-29T20:40:37.512926Z"
    }
   },
   "id": "a00fb060cd7dc110",
   "execution_count": 18
  },
  {
   "cell_type": "code",
   "outputs": [],
   "source": [
    "yeniListe=list(range(0,10))"
   ],
   "metadata": {
    "collapsed": false,
    "ExecuteTime": {
     "end_time": "2024-03-29T20:41:49.667083Z",
     "start_time": "2024-03-29T20:41:49.664773Z"
    }
   },
   "id": "5d6c77d4cd5e4d41",
   "execution_count": 19
  },
  {
   "cell_type": "code",
   "outputs": [
    {
     "data": {
      "text/plain": "[0, 1, 2, 3, 4, 5, 6, 7, 8, 9]"
     },
     "execution_count": 20,
     "metadata": {},
     "output_type": "execute_result"
    }
   ],
   "source": [
    "yeniListe"
   ],
   "metadata": {
    "collapsed": false,
    "ExecuteTime": {
     "end_time": "2024-03-29T20:41:54.212529Z",
     "start_time": "2024-03-29T20:41:54.210267Z"
    }
   },
   "id": "4882194582b5c10d",
   "execution_count": 20
  },
  {
   "cell_type": "code",
   "outputs": [
    {
     "data": {
      "text/plain": "9"
     },
     "execution_count": 21,
     "metadata": {},
     "output_type": "execute_result"
    }
   ],
   "source": [
    "yeniListe[randint(0,9)]"
   ],
   "metadata": {
    "collapsed": false,
    "ExecuteTime": {
     "end_time": "2024-03-29T20:42:18.726878Z",
     "start_time": "2024-03-29T20:42:18.723123Z"
    }
   },
   "id": "906f157029f69be9",
   "execution_count": 21
  },
  {
   "cell_type": "code",
   "outputs": [
    {
     "data": {
      "text/plain": "6"
     },
     "execution_count": 22,
     "metadata": {},
     "output_type": "execute_result"
    }
   ],
   "source": [
    "yeniListe[randint(0,9)]\n"
   ],
   "metadata": {
    "collapsed": false,
    "ExecuteTime": {
     "end_time": "2024-03-29T20:42:25.838629Z",
     "start_time": "2024-03-29T20:42:25.835692Z"
    }
   },
   "id": "6f63e8d098bd9ea",
   "execution_count": 22
  },
  {
   "cell_type": "code",
   "outputs": [
    {
     "data": {
      "text/plain": "7"
     },
     "execution_count": 23,
     "metadata": {},
     "output_type": "execute_result"
    }
   ],
   "source": [
    "yeniListe[randint(0,9)]"
   ],
   "metadata": {
    "collapsed": false,
    "ExecuteTime": {
     "end_time": "2024-03-29T20:42:30.344685Z",
     "start_time": "2024-03-29T20:42:30.341699Z"
    }
   },
   "id": "cf921885b9c7767e",
   "execution_count": 23
  },
  {
   "cell_type": "code",
   "outputs": [],
   "source": [
    "from random import shuffle"
   ],
   "metadata": {
    "collapsed": false,
    "ExecuteTime": {
     "end_time": "2024-03-29T20:42:59.904951Z",
     "start_time": "2024-03-29T20:42:59.902841Z"
    }
   },
   "id": "a1cb58bd32796513",
   "execution_count": 24
  },
  {
   "cell_type": "code",
   "outputs": [],
   "source": [
    "shuffle(yeniListe)"
   ],
   "metadata": {
    "collapsed": false,
    "ExecuteTime": {
     "end_time": "2024-03-29T20:43:03.159339Z",
     "start_time": "2024-03-29T20:43:03.156910Z"
    }
   },
   "id": "24848884f7157900",
   "execution_count": 25
  },
  {
   "cell_type": "code",
   "outputs": [
    {
     "data": {
      "text/plain": "[1, 6, 0, 7, 4, 8, 9, 5, 2, 3]"
     },
     "execution_count": 26,
     "metadata": {},
     "output_type": "execute_result"
    }
   ],
   "source": [
    "yeniListe"
   ],
   "metadata": {
    "collapsed": false,
    "ExecuteTime": {
     "end_time": "2024-03-29T20:43:06.118798Z",
     "start_time": "2024-03-29T20:43:06.115416Z"
    }
   },
   "id": "c0a2d470f4c95c1f",
   "execution_count": 26
  },
  {
   "cell_type": "code",
   "outputs": [],
   "source": [
    "yeniListe.sort()"
   ],
   "metadata": {
    "collapsed": false,
    "ExecuteTime": {
     "end_time": "2024-03-29T20:43:19.502242Z",
     "start_time": "2024-03-29T20:43:19.499859Z"
    }
   },
   "id": "5ceb86d0820bcd79",
   "execution_count": 27
  },
  {
   "cell_type": "code",
   "outputs": [
    {
     "data": {
      "text/plain": "[0, 1, 2, 3, 4, 5, 6, 7, 8, 9]"
     },
     "execution_count": 28,
     "metadata": {},
     "output_type": "execute_result"
    }
   ],
   "source": [
    "yeniListe"
   ],
   "metadata": {
    "collapsed": false,
    "ExecuteTime": {
     "end_time": "2024-03-29T20:43:22.314375Z",
     "start_time": "2024-03-29T20:43:22.311309Z"
    }
   },
   "id": "5d58b03ca7aaad8e",
   "execution_count": 28
  },
  {
   "cell_type": "markdown",
   "source": [
    "Zip "
   ],
   "metadata": {
    "collapsed": false
   },
   "id": "625f1ab033e2884c"
  },
  {
   "cell_type": "code",
   "outputs": [],
   "source": [
    "yemekListesi=[\"muz\",\"ananas\",\"elma\"]\n",
    "kaloriListesi=[100,200,300]\n",
    "gunListesi=[\"pazartesi\",\"salı\",\"çarşamba\"]"
   ],
   "metadata": {
    "collapsed": false,
    "ExecuteTime": {
     "end_time": "2024-03-29T20:48:33.752013Z",
     "start_time": "2024-03-29T20:48:33.749389Z"
    }
   },
   "id": "f04fb01ccabd851a",
   "execution_count": 29
  },
  {
   "cell_type": "code",
   "outputs": [],
   "source": [
    "ziplenmisListe=list(zip(yemekListesi,kaloriListesi,gunListesi))"
   ],
   "metadata": {
    "collapsed": false,
    "ExecuteTime": {
     "end_time": "2024-03-29T20:50:31.819252Z",
     "start_time": "2024-03-29T20:50:31.817438Z"
    }
   },
   "id": "89fde9434dd4e896",
   "execution_count": 31
  },
  {
   "cell_type": "code",
   "outputs": [
    {
     "name": "stdout",
     "output_type": "stream",
     "text": [
      "<class 'tuple'>\n",
      "<class 'tuple'>\n",
      "<class 'tuple'>\n"
     ]
    }
   ],
   "source": [
    "for eleman in ziplenmisListe:\n",
    "    print(type(eleman))"
   ],
   "metadata": {
    "collapsed": false,
    "ExecuteTime": {
     "end_time": "2024-03-29T20:50:58.731213Z",
     "start_time": "2024-03-29T20:50:58.728696Z"
    }
   },
   "id": "15cf74c7d59875be",
   "execution_count": 32
  },
  {
   "cell_type": "code",
   "outputs": [
    {
     "data": {
      "text/plain": "[('muz', 100, 'pazartesi'), ('ananas', 200, 'salı'), ('elma', 300, 'çarşamba')]"
     },
     "execution_count": 33,
     "metadata": {},
     "output_type": "execute_result"
    }
   ],
   "source": [
    "ziplenmisListe"
   ],
   "metadata": {
    "collapsed": false,
    "ExecuteTime": {
     "end_time": "2024-03-29T20:51:08.475619Z",
     "start_time": "2024-03-29T20:51:08.472407Z"
    }
   },
   "id": "fafe6f3712af944a",
   "execution_count": 33
  },
  {
   "cell_type": "markdown",
   "source": [
    "Listeler İleri Seviye"
   ],
   "metadata": {
    "collapsed": false
   },
   "id": "565bb9758f91fb27"
  },
  {
   "cell_type": "code",
   "outputs": [],
   "source": [
    "listeOrnegi=[]\n",
    "benimString=\"mustafa balçiçek\"\n",
    "for harf in benimString:\n",
    "    listeOrnegi.append(harf)"
   ],
   "metadata": {
    "collapsed": false,
    "ExecuteTime": {
     "end_time": "2024-03-29T20:52:48.465951Z",
     "start_time": "2024-03-29T20:52:48.463642Z"
    }
   },
   "id": "bc57c17ba81db7e1",
   "execution_count": 34
  },
  {
   "cell_type": "code",
   "outputs": [
    {
     "data": {
      "text/plain": "['m',\n 'u',\n 's',\n 't',\n 'a',\n 'f',\n 'a',\n ' ',\n 'b',\n 'a',\n 'l',\n 'ç',\n 'i',\n 'ç',\n 'e',\n 'k']"
     },
     "execution_count": 35,
     "metadata": {},
     "output_type": "execute_result"
    }
   ],
   "source": [
    "listeOrnegi"
   ],
   "metadata": {
    "collapsed": false,
    "ExecuteTime": {
     "end_time": "2024-03-29T20:52:52.047297Z",
     "start_time": "2024-03-29T20:52:52.044713Z"
    }
   },
   "id": "bfe82b369cb1495d",
   "execution_count": 35
  },
  {
   "cell_type": "markdown",
   "source": [],
   "metadata": {
    "collapsed": false
   },
   "id": "131a72d20af8a714"
  },
  {
   "cell_type": "code",
   "outputs": [],
   "source": [
    "yeniString=\"mustafa balçiçek \""
   ],
   "metadata": {
    "collapsed": false,
    "ExecuteTime": {
     "end_time": "2024-03-29T20:54:18.643826Z",
     "start_time": "2024-03-29T20:54:18.641596Z"
    }
   },
   "id": "96f5b67f61b40137",
   "execution_count": 36
  },
  {
   "cell_type": "code",
   "outputs": [],
   "source": [
    "yeniListeOrnegi=[eleman for eleman in yeniString]"
   ],
   "metadata": {
    "collapsed": false,
    "ExecuteTime": {
     "end_time": "2024-03-29T20:54:54.000283Z",
     "start_time": "2024-03-29T20:54:53.998639Z"
    }
   },
   "id": "cc703213d46df8e9",
   "execution_count": 37
  },
  {
   "cell_type": "code",
   "outputs": [
    {
     "data": {
      "text/plain": "['m',\n 'u',\n 's',\n 't',\n 'a',\n 'f',\n 'a',\n ' ',\n 'b',\n 'a',\n 'l',\n 'ç',\n 'i',\n 'ç',\n 'e',\n 'k',\n ' ']"
     },
     "execution_count": 38,
     "metadata": {},
     "output_type": "execute_result"
    }
   ],
   "source": [
    "yeniListeOrnegi"
   ],
   "metadata": {
    "collapsed": false,
    "ExecuteTime": {
     "end_time": "2024-03-29T20:54:57.830261Z",
     "start_time": "2024-03-29T20:54:57.827307Z"
    }
   },
   "id": "2b1e3c7ac60ffcfb",
   "execution_count": 38
  },
  {
   "cell_type": "code",
   "outputs": [],
   "source": [
    "ikinciListeOrnegi=[ numara*5 for numara in list(range(0,10))]"
   ],
   "metadata": {
    "collapsed": false,
    "ExecuteTime": {
     "end_time": "2024-03-29T20:56:56.848649Z",
     "start_time": "2024-03-29T20:56:56.845880Z"
    }
   },
   "id": "6ae632656680ea74",
   "execution_count": 39
  },
  {
   "cell_type": "code",
   "outputs": [
    {
     "data": {
      "text/plain": "[0, 5, 10, 15, 20, 25, 30, 35, 40, 45]"
     },
     "execution_count": 40,
     "metadata": {},
     "output_type": "execute_result"
    }
   ],
   "source": [
    "ikinciListeOrnegi"
   ],
   "metadata": {
    "collapsed": false,
    "ExecuteTime": {
     "end_time": "2024-03-29T20:56:59.389860Z",
     "start_time": "2024-03-29T20:56:59.386480Z"
    }
   },
   "id": "ff898eb4792df12e",
   "execution_count": 40
  },
  {
   "cell_type": "code",
   "outputs": [],
   "source": [],
   "metadata": {
    "collapsed": false
   },
   "id": "1008be389f44521f"
  }
 ],
 "metadata": {
  "kernelspec": {
   "display_name": "Python 3",
   "language": "python",
   "name": "python3"
  },
  "language_info": {
   "codemirror_mode": {
    "name": "ipython",
    "version": 2
   },
   "file_extension": ".py",
   "mimetype": "text/x-python",
   "name": "python",
   "nbconvert_exporter": "python",
   "pygments_lexer": "ipython2",
   "version": "2.7.6"
  }
 },
 "nbformat": 4,
 "nbformat_minor": 5
}
