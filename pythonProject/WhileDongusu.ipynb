{
 "cells": [
  {
   "cell_type": "code",
   "execution_count": 11,
   "id": "initial_id",
   "metadata": {
    "collapsed": true,
    "ExecuteTime": {
     "end_time": "2024-03-29T19:43:30.368473Z",
     "start_time": "2024-03-29T19:43:30.366437Z"
    }
   },
   "outputs": [],
   "source": []
  },
  {
   "cell_type": "code",
   "outputs": [
    {
     "name": "stdout",
     "output_type": "stream",
     "text": [
      "0\n",
      "1\n",
      "2\n",
      "3\n",
      "4\n",
      "5\n",
      "6\n",
      "7\n",
      "8\n",
      "9\n"
     ]
    }
   ],
   "source": [
    "x=0\n",
    "while x < 10:\n",
    "    print(x)\n",
    "    x=x+1"
   ],
   "metadata": {
    "collapsed": false,
    "ExecuteTime": {
     "end_time": "2024-03-29T19:43:30.704398Z",
     "start_time": "2024-03-29T19:43:30.702264Z"
    }
   },
   "id": "6a5e382060eac670",
   "execution_count": 12
  },
  {
   "cell_type": "code",
   "outputs": [],
   "source": [
    "benimListem=[1,2,3,4,5]"
   ],
   "metadata": {
    "collapsed": false,
    "ExecuteTime": {
     "end_time": "2024-03-29T19:44:09.071158Z",
     "start_time": "2024-03-29T19:44:09.068663Z"
    }
   },
   "id": "e4703ca3b77e4324",
   "execution_count": 13
  },
  {
   "cell_type": "code",
   "outputs": [
    {
     "data": {
      "text/plain": "5"
     },
     "execution_count": 14,
     "metadata": {},
     "output_type": "execute_result"
    }
   ],
   "source": [
    "benimListem.pop()"
   ],
   "metadata": {
    "collapsed": false,
    "ExecuteTime": {
     "end_time": "2024-03-29T19:44:17.179112Z",
     "start_time": "2024-03-29T19:44:17.175194Z"
    }
   },
   "id": "fd17da7434077b77",
   "execution_count": 14
  },
  {
   "cell_type": "code",
   "outputs": [
    {
     "data": {
      "text/plain": "[1, 2, 3, 4]"
     },
     "execution_count": 15,
     "metadata": {},
     "output_type": "execute_result"
    }
   ],
   "source": [
    "benimListem"
   ],
   "metadata": {
    "collapsed": false,
    "ExecuteTime": {
     "end_time": "2024-03-29T19:44:20.938716Z",
     "start_time": "2024-03-29T19:44:20.935258Z"
    }
   },
   "id": "b0179bc1ca8ac4bf",
   "execution_count": 15
  },
  {
   "cell_type": "code",
   "outputs": [],
   "source": [
    "benimListem.append(5)"
   ],
   "metadata": {
    "collapsed": false,
    "ExecuteTime": {
     "end_time": "2024-03-29T19:44:28.792179Z",
     "start_time": "2024-03-29T19:44:28.790379Z"
    }
   },
   "id": "68fa062b51e58bde",
   "execution_count": 16
  },
  {
   "cell_type": "code",
   "outputs": [
    {
     "name": "stdout",
     "output_type": "stream",
     "text": [
      "3 hala içerisinde\n",
      "3 hala içerisinde\n",
      "3 hala içerisinde\n"
     ]
    }
   ],
   "source": [
    "while 3 in benimListem:\n",
    "    print(\"3 hala içerisinde\")\n",
    "    benimListem.pop()"
   ],
   "metadata": {
    "collapsed": false,
    "ExecuteTime": {
     "end_time": "2024-03-29T19:45:11.758584Z",
     "start_time": "2024-03-29T19:45:11.755838Z"
    }
   },
   "id": "632d042c296e2b6c",
   "execution_count": 17
  },
  {
   "cell_type": "code",
   "outputs": [],
   "source": [
    "numara=0"
   ],
   "metadata": {
    "collapsed": false,
    "ExecuteTime": {
     "end_time": "2024-03-29T19:45:20.907686Z",
     "start_time": "2024-03-29T19:45:20.904981Z"
    }
   },
   "id": "cc72b1e50d41550",
   "execution_count": 18
  },
  {
   "cell_type": "code",
   "outputs": [
    {
     "name": "stdout",
     "output_type": "stream",
     "text": [
      "0\n",
      "1\n",
      "2\n",
      "3\n"
     ]
    }
   ],
   "source": [
    "while numara<5:\n",
    "    if numara==4:\n",
    "        break\n",
    "    print(numara)\n",
    "    numara+=1"
   ],
   "metadata": {
    "collapsed": false,
    "ExecuteTime": {
     "end_time": "2024-03-29T19:45:57.579258Z",
     "start_time": "2024-03-29T19:45:57.575503Z"
    }
   },
   "id": "765472b2be6b830b",
   "execution_count": 20
  },
  {
   "cell_type": "code",
   "outputs": [
    {
     "name": "stdout",
     "output_type": "stream",
     "text": [
      "yeniDeğiskenin güncel değeri:0\n",
      "yeniDeğiskenin güncel değeri:1\n",
      "yeniDeğiskenin güncel değeri:2\n",
      "yeniDeğiskenin güncel değeri:3\n",
      "yeniDeğiskenin güncel değeri:4\n",
      "yeniDeğiskenin güncel değeri:5\n",
      "yeniDeğiskenin güncel değeri:6\n",
      "yeniDeğiskenin güncel değeri:7\n",
      "yeniDeğiskenin güncel değeri:8\n",
      "yeniDeğiskenin güncel değeri:9\n",
      "yeniDeğiskenin güncel değeri:10\n",
      "yeniDeğiskenin güncel değeri:11\n",
      "yeniDeğiskenin güncel değeri:12\n",
      "yeniDeğiskenin güncel değeri:13\n",
      "yeniDeğiskenin güncel değeri:14\n"
     ]
    }
   ],
   "source": [
    "yeniDegisken=0\n",
    "\n",
    "while yeniDegisken < 15:\n",
    "   # print(\"yeniDegisken'in güncel değeri:\"+str(yeniDegisken) )\n",
    "    print(f\"yeniDeğiskenin güncel değeri:{yeniDegisken}\")\n",
    "    yeniDegisken=yeniDegisken+1"
   ],
   "metadata": {
    "collapsed": false,
    "ExecuteTime": {
     "end_time": "2024-03-29T19:50:28.892119Z",
     "start_time": "2024-03-29T19:50:28.888489Z"
    }
   },
   "id": "6c73ed6d88c4130",
   "execution_count": 29
  },
  {
   "cell_type": "code",
   "outputs": [],
   "source": [],
   "metadata": {
    "collapsed": false
   },
   "id": "a23a6b540198e494"
  }
 ],
 "metadata": {
  "kernelspec": {
   "display_name": "Python 3",
   "language": "python",
   "name": "python3"
  },
  "language_info": {
   "codemirror_mode": {
    "name": "ipython",
    "version": 2
   },
   "file_extension": ".py",
   "mimetype": "text/x-python",
   "name": "python",
   "nbconvert_exporter": "python",
   "pygments_lexer": "ipython2",
   "version": "2.7.6"
  }
 },
 "nbformat": 4,
 "nbformat_minor": 5
}
