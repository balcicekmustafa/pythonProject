{
 "cells": [
  {
   "metadata": {},
   "cell_type": "markdown",
   "source": "input & return",
   "id": "4c4d169240717a0b"
  },
  {
   "metadata": {
    "ExecuteTime": {
     "end_time": "2024-05-22T14:32:49.584159Z",
     "start_time": "2024-05-22T14:32:49.581463Z"
    }
   },
   "cell_type": "code",
   "source": [
    "\n",
    "def merhabaDunya(yazdirilacakIsim):\n",
    "    print(\"Merhaba\")\n",
    "    print(yazdirilacakIsim)"
   ],
   "id": "3c03763957643ff1",
   "outputs": [],
   "execution_count": 7
  },
  {
   "metadata": {
    "ExecuteTime": {
     "end_time": "2024-05-22T14:32:50.282144Z",
     "start_time": "2024-05-22T14:32:50.279813Z"
    }
   },
   "cell_type": "code",
   "source": "merhabaDunya(\"Atıl\")",
   "id": "163265042ea17ea5",
   "outputs": [
    {
     "name": "stdout",
     "output_type": "stream",
     "text": [
      "Merhaba\n",
      "Atıl\n"
     ]
    }
   ],
   "execution_count": 8
  },
  {
   "metadata": {
    "ExecuteTime": {
     "end_time": "2024-05-22T14:34:04.120924Z",
     "start_time": "2024-05-22T14:34:04.118611Z"
    }
   },
   "cell_type": "code",
   "source": [
    "def merhaba(isim=\"Atıl\"):\n",
    "    print(\"Merhaba\")\n",
    "    print(isim)"
   ],
   "id": "be94b8c39fe7def0",
   "outputs": [],
   "execution_count": 9
  },
  {
   "metadata": {
    "ExecuteTime": {
     "end_time": "2024-05-22T14:34:13.977884Z",
     "start_time": "2024-05-22T14:34:13.975911Z"
    }
   },
   "cell_type": "code",
   "source": "merhaba()",
   "id": "aa0e9b05a8ba7adf",
   "outputs": [
    {
     "name": "stdout",
     "output_type": "stream",
     "text": [
      "Merhaba\n",
      "Atıl\n"
     ]
    }
   ],
   "execution_count": 10
  },
  {
   "metadata": {
    "ExecuteTime": {
     "end_time": "2024-05-22T14:35:06.060858Z",
     "start_time": "2024-05-22T14:35:06.058674Z"
    }
   },
   "cell_type": "code",
   "source": [
    "def toplama(num1,num2):\n",
    "    sonuc=num1+num2\n",
    "    print(sonuc)"
   ],
   "id": "64b6f4e9d466a9aa",
   "outputs": [],
   "execution_count": 12
  },
  {
   "metadata": {
    "ExecuteTime": {
     "end_time": "2024-05-22T14:35:12.975778Z",
     "start_time": "2024-05-22T14:35:12.973425Z"
    }
   },
   "cell_type": "code",
   "source": "toplama(2,3)",
   "id": "330afd4c6b38c1fc",
   "outputs": [
    {
     "name": "stdout",
     "output_type": "stream",
     "text": [
      "5\n"
     ]
    }
   ],
   "execution_count": 13
  },
  {
   "metadata": {
    "ExecuteTime": {
     "end_time": "2024-05-22T14:42:55.411549Z",
     "start_time": "2024-05-22T14:42:55.409622Z"
    }
   },
   "cell_type": "code",
   "source": [
    "def dondurmeliToplama(num1,num2):\n",
    "    return num1+num2"
   ],
   "id": "7906f37fc04ca332",
   "outputs": [],
   "execution_count": 14
  },
  {
   "metadata": {
    "ExecuteTime": {
     "end_time": "2024-05-22T14:43:20.602564Z",
     "start_time": "2024-05-22T14:43:20.600695Z"
    }
   },
   "cell_type": "code",
   "source": "yeniSonuc=dondurmeliToplama(2,3)",
   "id": "ad109aeefe94e668",
   "outputs": [],
   "execution_count": 15
  },
  {
   "metadata": {
    "ExecuteTime": {
     "end_time": "2024-05-22T14:43:29.518834Z",
     "start_time": "2024-05-22T14:43:29.515246Z"
    }
   },
   "cell_type": "code",
   "source": "yeniSonuc",
   "id": "586d8b3bf6cf1990",
   "outputs": [
    {
     "data": {
      "text/plain": [
       "5"
      ]
     },
     "execution_count": 16,
     "metadata": {},
     "output_type": "execute_result"
    }
   ],
   "execution_count": 16
  },
  {
   "metadata": {
    "ExecuteTime": {
     "end_time": "2024-05-22T14:43:35.714925Z",
     "start_time": "2024-05-22T14:43:35.711512Z"
    }
   },
   "cell_type": "code",
   "source": "type(yeniSonuc)",
   "id": "cd5b1d1d8069410",
   "outputs": [
    {
     "data": {
      "text/plain": [
       "int"
      ]
     },
     "execution_count": 17,
     "metadata": {},
     "output_type": "execute_result"
    }
   ],
   "execution_count": 17
  },
  {
   "metadata": {},
   "cell_type": "markdown",
   "source": " ARGS & KWARGS",
   "id": "4a205a9a89e18d36"
  },
  {
   "cell_type": "code",
   "id": "initial_id",
   "metadata": {
    "collapsed": true,
    "ExecuteTime": {
     "end_time": "2024-05-22T14:48:08.045992Z",
     "start_time": "2024-05-22T14:48:08.043688Z"
    }
   },
   "source": [
    "def yeniToplama(*args):\n",
    "    return sum(args)\n",
    "    "
   ],
   "outputs": [],
   "execution_count": 18
  },
  {
   "metadata": {
    "ExecuteTime": {
     "end_time": "2024-05-22T14:48:30.092126Z",
     "start_time": "2024-05-22T14:48:30.088419Z"
    }
   },
   "cell_type": "code",
   "source": "yeniToplama(10,20,30,40,50,60)",
   "id": "e532e647b21bb31e",
   "outputs": [
    {
     "data": {
      "text/plain": [
       "210"
      ]
     },
     "execution_count": 19,
     "metadata": {},
     "output_type": "execute_result"
    }
   ],
   "execution_count": 19
  },
  {
   "metadata": {
    "ExecuteTime": {
     "end_time": "2024-05-22T14:48:45.985304Z",
     "start_time": "2024-05-22T14:48:45.981728Z"
    }
   },
   "cell_type": "code",
   "source": "yeniToplama(10,20)\n",
   "id": "5d3706e5d162271c",
   "outputs": [
    {
     "data": {
      "text/plain": [
       "30"
      ]
     },
     "execution_count": 20,
     "metadata": {},
     "output_type": "execute_result"
    }
   ],
   "execution_count": 20
  },
  {
   "metadata": {
    "ExecuteTime": {
     "end_time": "2024-05-22T15:10:28.494497Z",
     "start_time": "2024-05-22T15:10:28.492562Z"
    }
   },
   "cell_type": "code",
   "source": [
    "def ornekFonksiyon(**kwargs):\n",
    "    return kwargs"
   ],
   "id": "3fdf2a4be7807570",
   "outputs": [],
   "execution_count": 21
  },
  {
   "metadata": {
    "ExecuteTime": {
     "end_time": "2024-05-22T15:11:16.230267Z",
     "start_time": "2024-05-22T15:11:16.227470Z"
    }
   },
   "cell_type": "code",
   "source": "type(ornekFonksiyon(muz=100,elma=200,ananas=300))",
   "id": "4fabf3102fa94d7b",
   "outputs": [
    {
     "data": {
      "text/plain": [
       "dict"
      ]
     },
     "execution_count": 22,
     "metadata": {},
     "output_type": "execute_result"
    }
   ],
   "execution_count": 22
  },
  {
   "metadata": {
    "ExecuteTime": {
     "end_time": "2024-05-22T15:12:55.516796Z",
     "start_time": "2024-05-22T15:12:55.514798Z"
    }
   },
   "cell_type": "code",
   "source": [
    "def keyWordKontrolu(**kwargs):\n",
    "    if \"atıl\" in kwargs:\n",
    "        print(\"Atıl ver\")\n",
    "    else:\n",
    "        print(\"Atıl yok\")"
   ],
   "id": "81be6072e208e12",
   "outputs": [],
   "execution_count": 23
  },
  {
   "metadata": {
    "ExecuteTime": {
     "end_time": "2024-05-22T15:13:35.504812Z",
     "start_time": "2024-05-22T15:13:35.501975Z"
    }
   },
   "cell_type": "code",
   "source": "keyWordKontrolu(atıl=70,zeynep=50,mehmet=40)",
   "id": "c9c7fa5cb124959c",
   "outputs": [
    {
     "name": "stdout",
     "output_type": "stream",
     "text": [
      "Atıl ver\n"
     ]
    }
   ],
   "execution_count": 24
  },
  {
   "metadata": {},
   "cell_type": "code",
   "outputs": [],
   "execution_count": null,
   "source": "",
   "id": "e2d6c6feb1b47f16"
  }
 ],
 "metadata": {
  "kernelspec": {
   "display_name": "Python 3",
   "language": "python",
   "name": "python3"
  },
  "language_info": {
   "codemirror_mode": {
    "name": "ipython",
    "version": 2
   },
   "file_extension": ".py",
   "mimetype": "text/x-python",
   "name": "python",
   "nbconvert_exporter": "python",
   "pygments_lexer": "ipython2",
   "version": "2.7.6"
  }
 },
 "nbformat": 4,
 "nbformat_minor": 5
}
